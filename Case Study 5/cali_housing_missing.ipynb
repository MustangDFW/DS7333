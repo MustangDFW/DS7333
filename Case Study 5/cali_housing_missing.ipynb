{
 "cells": [
  {
   "cell_type": "markdown",
   "metadata": {},
   "source": [
    "### Dealing with Missing Data\n",
    "* Team: Jonathan Tan, Lance Dacy, Reannan Mcdaniel, Shawn Jung\n",
    "* Last Update: 7/6/2020\n",
    "* Based on California Housing Price data from Scikit Learn, we would like to explore ways to handle missing data"
   ]
  },
  {
   "cell_type": "code",
   "execution_count": 31,
   "metadata": {},
   "outputs": [],
   "source": [
    "# Import package dependencies\n",
    "import pandas as pd\n",
    "import numpy as np\n",
    "from sklearn.linear_model import LinearRegression\n",
    "from sklearn.metrics import mean_squared_error, r2_score, mean_absolute_error\n",
    "from sklearn.model_selection import train_test_split\n",
    "#from ml_metrics import rmse\n",
    "import matplotlib.pyplot as plt\n",
    "from sklearn.datasets import fetch_california_housing"
   ]
  },
  {
   "cell_type": "code",
   "execution_count": 32,
   "metadata": {
    "tags": []
   },
   "outputs": [
    {
     "output_type": "stream",
     "name": "stdout",
     "text": "(20640, 8)\n"
    }
   ],
   "source": [
    "# load dataset\n",
    "cali = fetch_california_housing()\n",
    "print(cali.data.shape)\n"
   ]
  },
  {
   "cell_type": "code",
   "execution_count": 33,
   "metadata": {
    "tags": []
   },
   "outputs": [
    {
     "output_type": "stream",
     "name": "stdout",
     "text": "dict_keys(['data', 'target', 'feature_names', 'DESCR'])\n"
    }
   ],
   "source": [
    "print(cali.keys())"
   ]
  },
  {
   "cell_type": "code",
   "execution_count": 34,
   "metadata": {
    "tags": []
   },
   "outputs": [
    {
     "output_type": "stream",
     "name": "stdout",
     "text": ".. _california_housing_dataset:\n\nCalifornia Housing dataset\n--------------------------\n\n**Data Set Characteristics:**\n\n    :Number of Instances: 20640\n\n    :Number of Attributes: 8 numeric, predictive attributes and the target\n\n    :Attribute Information:\n        - MedInc        median income in block\n        - HouseAge      median house age in block\n        - AveRooms      average number of rooms\n        - AveBedrms     average number of bedrooms\n        - Population    block population\n        - AveOccup      average house occupancy\n        - Latitude      house block latitude\n        - Longitude     house block longitude\n\n    :Missing Attribute Values: None\n\nThis dataset was obtained from the StatLib repository.\nhttp://lib.stat.cmu.edu/datasets/\n\nThe target variable is the median house value for California districts.\n\nThis dataset was derived from the 1990 U.S. census, using one row per census\nblock group. A block group is the smallest geographical unit for which the U.S.\nCensus Bureau publishes sample data (a block group typically has a population\nof 600 to 3,000 people).\n\nIt can be downloaded/loaded using the\n:func:`sklearn.datasets.fetch_california_housing` function.\n\n.. topic:: References\n\n    - Pace, R. Kelley and Ronald Barry, Sparse Spatial Autoregressions,\n      Statistics and Probability Letters, 33 (1997) 291-297\n\n"
    }
   ],
   "source": [
    "# View the data descriptions\n",
    "print(cali.DESCR)"
   ]
  },
  {
   "cell_type": "code",
   "execution_count": 35,
   "metadata": {},
   "outputs": [
    {
     "output_type": "execute_result",
     "data": {
      "text/plain": "['MedInc',\n 'HouseAge',\n 'AveRooms',\n 'AveBedrms',\n 'Population',\n 'AveOccup',\n 'Latitude',\n 'Longitude']"
     },
     "metadata": {},
     "execution_count": 35
    }
   ],
   "source": [
    "cali.feature_names"
   ]
  },
  {
   "cell_type": "code",
   "execution_count": 36,
   "metadata": {},
   "outputs": [
    {
     "output_type": "execute_result",
     "data": {
      "text/plain": "   MedInc  HouseAge  AveRooms  AveBedrms  Population  AveOccup  Latitude  \\\n0  8.3252      41.0  6.984127   1.023810       322.0  2.555556     37.88   \n1  8.3014      21.0  6.238137   0.971880      2401.0  2.109842     37.86   \n2  7.2574      52.0  8.288136   1.073446       496.0  2.802260     37.85   \n3  5.6431      52.0  5.817352   1.073059       558.0  2.547945     37.85   \n4  3.8462      52.0  6.281853   1.081081       565.0  2.181467     37.85   \n\n   Longitude  \n0    -122.23  \n1    -122.22  \n2    -122.24  \n3    -122.25  \n4    -122.25  ",
      "text/html": "<div>\n<style scoped>\n    .dataframe tbody tr th:only-of-type {\n        vertical-align: middle;\n    }\n\n    .dataframe tbody tr th {\n        vertical-align: top;\n    }\n\n    .dataframe thead th {\n        text-align: right;\n    }\n</style>\n<table border=\"1\" class=\"dataframe\">\n  <thead>\n    <tr style=\"text-align: right;\">\n      <th></th>\n      <th>MedInc</th>\n      <th>HouseAge</th>\n      <th>AveRooms</th>\n      <th>AveBedrms</th>\n      <th>Population</th>\n      <th>AveOccup</th>\n      <th>Latitude</th>\n      <th>Longitude</th>\n    </tr>\n  </thead>\n  <tbody>\n    <tr>\n      <th>0</th>\n      <td>8.3252</td>\n      <td>41.0</td>\n      <td>6.984127</td>\n      <td>1.023810</td>\n      <td>322.0</td>\n      <td>2.555556</td>\n      <td>37.88</td>\n      <td>-122.23</td>\n    </tr>\n    <tr>\n      <th>1</th>\n      <td>8.3014</td>\n      <td>21.0</td>\n      <td>6.238137</td>\n      <td>0.971880</td>\n      <td>2401.0</td>\n      <td>2.109842</td>\n      <td>37.86</td>\n      <td>-122.22</td>\n    </tr>\n    <tr>\n      <th>2</th>\n      <td>7.2574</td>\n      <td>52.0</td>\n      <td>8.288136</td>\n      <td>1.073446</td>\n      <td>496.0</td>\n      <td>2.802260</td>\n      <td>37.85</td>\n      <td>-122.24</td>\n    </tr>\n    <tr>\n      <th>3</th>\n      <td>5.6431</td>\n      <td>52.0</td>\n      <td>5.817352</td>\n      <td>1.073059</td>\n      <td>558.0</td>\n      <td>2.547945</td>\n      <td>37.85</td>\n      <td>-122.25</td>\n    </tr>\n    <tr>\n      <th>4</th>\n      <td>3.8462</td>\n      <td>52.0</td>\n      <td>6.281853</td>\n      <td>1.081081</td>\n      <td>565.0</td>\n      <td>2.181467</td>\n      <td>37.85</td>\n      <td>-122.25</td>\n    </tr>\n  </tbody>\n</table>\n</div>"
     },
     "metadata": {},
     "execution_count": 36
    }
   ],
   "source": [
    "# Convert the matrix to pandas dataframe\n",
    "X = pd.DataFrame(cali.data)\n",
    "X.columns = cali.feature_names\n",
    "y = cali.target\n",
    "X.head()"
   ]
  },
  {
   "cell_type": "code",
   "execution_count": 37,
   "metadata": {},
   "outputs": [
    {
     "output_type": "execute_result",
     "data": {
      "text/plain": "             MedInc      HouseAge      AveRooms     AveBedrms    Population  \\\ncount  20640.000000  20640.000000  20640.000000  20640.000000  20640.000000   \nmean       3.870671     28.639486      5.429000      1.096675   1425.476744   \nstd        1.899822     12.585558      2.474173      0.473911   1132.462122   \nmin        0.499900      1.000000      0.846154      0.333333      3.000000   \n25%        2.563400     18.000000      4.440716      1.006079    787.000000   \n50%        3.534800     29.000000      5.229129      1.048780   1166.000000   \n75%        4.743250     37.000000      6.052381      1.099526   1725.000000   \nmax       15.000100     52.000000    141.909091     34.066667  35682.000000   \n\n           AveOccup      Latitude     Longitude  \ncount  20640.000000  20640.000000  20640.000000  \nmean       3.070655     35.631861   -119.569704  \nstd       10.386050      2.135952      2.003532  \nmin        0.692308     32.540000   -124.350000  \n25%        2.429741     33.930000   -121.800000  \n50%        2.818116     34.260000   -118.490000  \n75%        3.282261     37.710000   -118.010000  \nmax     1243.333333     41.950000   -114.310000  ",
      "text/html": "<div>\n<style scoped>\n    .dataframe tbody tr th:only-of-type {\n        vertical-align: middle;\n    }\n\n    .dataframe tbody tr th {\n        vertical-align: top;\n    }\n\n    .dataframe thead th {\n        text-align: right;\n    }\n</style>\n<table border=\"1\" class=\"dataframe\">\n  <thead>\n    <tr style=\"text-align: right;\">\n      <th></th>\n      <th>MedInc</th>\n      <th>HouseAge</th>\n      <th>AveRooms</th>\n      <th>AveBedrms</th>\n      <th>Population</th>\n      <th>AveOccup</th>\n      <th>Latitude</th>\n      <th>Longitude</th>\n    </tr>\n  </thead>\n  <tbody>\n    <tr>\n      <th>count</th>\n      <td>20640.000000</td>\n      <td>20640.000000</td>\n      <td>20640.000000</td>\n      <td>20640.000000</td>\n      <td>20640.000000</td>\n      <td>20640.000000</td>\n      <td>20640.000000</td>\n      <td>20640.000000</td>\n    </tr>\n    <tr>\n      <th>mean</th>\n      <td>3.870671</td>\n      <td>28.639486</td>\n      <td>5.429000</td>\n      <td>1.096675</td>\n      <td>1425.476744</td>\n      <td>3.070655</td>\n      <td>35.631861</td>\n      <td>-119.569704</td>\n    </tr>\n    <tr>\n      <th>std</th>\n      <td>1.899822</td>\n      <td>12.585558</td>\n      <td>2.474173</td>\n      <td>0.473911</td>\n      <td>1132.462122</td>\n      <td>10.386050</td>\n      <td>2.135952</td>\n      <td>2.003532</td>\n    </tr>\n    <tr>\n      <th>min</th>\n      <td>0.499900</td>\n      <td>1.000000</td>\n      <td>0.846154</td>\n      <td>0.333333</td>\n      <td>3.000000</td>\n      <td>0.692308</td>\n      <td>32.540000</td>\n      <td>-124.350000</td>\n    </tr>\n    <tr>\n      <th>25%</th>\n      <td>2.563400</td>\n      <td>18.000000</td>\n      <td>4.440716</td>\n      <td>1.006079</td>\n      <td>787.000000</td>\n      <td>2.429741</td>\n      <td>33.930000</td>\n      <td>-121.800000</td>\n    </tr>\n    <tr>\n      <th>50%</th>\n      <td>3.534800</td>\n      <td>29.000000</td>\n      <td>5.229129</td>\n      <td>1.048780</td>\n      <td>1166.000000</td>\n      <td>2.818116</td>\n      <td>34.260000</td>\n      <td>-118.490000</td>\n    </tr>\n    <tr>\n      <th>75%</th>\n      <td>4.743250</td>\n      <td>37.000000</td>\n      <td>6.052381</td>\n      <td>1.099526</td>\n      <td>1725.000000</td>\n      <td>3.282261</td>\n      <td>37.710000</td>\n      <td>-118.010000</td>\n    </tr>\n    <tr>\n      <th>max</th>\n      <td>15.000100</td>\n      <td>52.000000</td>\n      <td>141.909091</td>\n      <td>34.066667</td>\n      <td>35682.000000</td>\n      <td>1243.333333</td>\n      <td>41.950000</td>\n      <td>-114.310000</td>\n    </tr>\n  </tbody>\n</table>\n</div>"
     },
     "metadata": {},
     "execution_count": 37
    }
   ],
   "source": [
    "X.describe()"
   ]
  },
  {
   "cell_type": "markdown",
   "metadata": {},
   "source": [
    "## Start by fitting a Linear Regression model to the full dataset\n",
    "\n",
    "**Create a training and testing split (ex., 70/30-split)**"
   ]
  },
  {
   "cell_type": "code",
   "execution_count": 38,
   "metadata": {
    "tags": []
   },
   "outputs": [],
   "source": [
    "# Create training and testing sets (cross-validation not needed)\n",
    "X_train, X_test, y_train, y_test = train_test_split(X, y, test_size=0.33, random_state=42, shuffle=True)\n"
   ]
  },
  {
   "cell_type": "code",
   "execution_count": 39,
   "metadata": {
    "tags": []
   },
   "outputs": [
    {
     "output_type": "stream",
     "name": "stdout",
     "text": "0.609370412027382\n[ 4.44870466e-01  9.55004561e-03 -1.21991503e-01  7.79144696e-01\n -7.68990809e-08 -3.29948505e-03 -4.19131153e-01 -4.34103468e-01]\n-37.0820109390799\n{'copy_X': True, 'fit_intercept': True, 'n_jobs': None, 'normalize': True}\n"
    }
   ],
   "source": [
    "# Fit a linear regression to the training data\n",
    "reg = LinearRegression(normalize=True).fit(X_train, y_train)\n",
    "print(reg.score(X_train, y_train))\n",
    "print(reg.coef_)\n",
    "print(reg.intercept_)\n",
    "print(reg.get_params())"
   ]
  },
  {
   "cell_type": "code",
   "execution_count": 40,
   "metadata": {
    "tags": []
   },
   "outputs": [
    {
     "output_type": "stream",
     "name": "stdout",
     "text": "The abs(max) coef-value is 0.7791446958109836\nThe variable associated with this coef-value is AveBedrms\n"
    }
   ],
   "source": [
    "# Find the variable with the largest \"normalized\" coefficient value\n",
    "print('The abs(max) coef-value is {}'.format(max(reg.coef_))) # Positive Max\n",
    "#print('The abs(max) coef-value is {}'.format(max(reg.coef_, key=abs))) # ABS Max\n",
    "max_var = max(reg.coef_) # Positive Max\n",
    "#max_var = max(reg.coef_, key=abs) # ABS Max\n",
    "var_index = reg.coef_.tolist().index(max_var)\n",
    "print('The variable associated with this coef-value is {}'.format(cali.feature_names[var_index]))"
   ]
  },
  {
   "cell_type": "markdown",
   "metadata": {},
   "source": [
    "# Step 1\n",
    "Question 1. What is the loss and what are the goodness of fit parameters?  This will be our baseline for comparison."
   ]
  },
  {
   "cell_type": "code",
   "execution_count": 41,
   "metadata": {
    "tags": []
   },
   "outputs": [
    {
     "output_type": "stream",
     "name": "stdout",
     "text": "MAE: 0.530\nMSE:  0.537\nRMSE:  0.733\nR2:  0.597\n"
    }
   ],
   "source": [
    "y_pred = reg.predict(X_test)\n",
    "\n",
    "orig_mae = mean_absolute_error(y_test,y_pred)\n",
    "orig_mse = mean_squared_error(y_test,y_pred)\n",
    "orig_rmse_val = np.sqrt(orig_mse)\n",
    "orig_r2 = r2_score(y_test,y_pred)\n",
    "print(\"MAE: %.3f\"%orig_mae)\n",
    "print(\"MSE:  %.3f\"%orig_mse)\n",
    "print(\"RMSE:  %.3f\"%orig_rmse_val)\n",
    "print(\"R2:  %.3f\"%orig_r2)"
   ]
  },
  {
   "cell_type": "markdown",
   "metadata": {},
   "source": [
    "We will define the prediction result placeholder, resd_frame, and add the first model to the dataframe"
   ]
  },
  {
   "cell_type": "code",
   "execution_count": 42,
   "metadata": {},
   "outputs": [
    {
     "output_type": "execute_result",
     "data": {
      "text/plain": "       data imputation       mae       mse      rmse        R2  mae_diff  \\\n0  original       none  0.529571  0.536969  0.732781  0.597049       NaN   \n\n   mse_diff  rmse_diff  R2_diff  \n0       NaN        NaN      NaN  ",
      "text/html": "<div>\n<style scoped>\n    .dataframe tbody tr th:only-of-type {\n        vertical-align: middle;\n    }\n\n    .dataframe tbody tr th {\n        vertical-align: top;\n    }\n\n    .dataframe thead th {\n        text-align: right;\n    }\n</style>\n<table border=\"1\" class=\"dataframe\">\n  <thead>\n    <tr style=\"text-align: right;\">\n      <th></th>\n      <th>data</th>\n      <th>imputation</th>\n      <th>mae</th>\n      <th>mse</th>\n      <th>rmse</th>\n      <th>R2</th>\n      <th>mae_diff</th>\n      <th>mse_diff</th>\n      <th>rmse_diff</th>\n      <th>R2_diff</th>\n    </tr>\n  </thead>\n  <tbody>\n    <tr>\n      <th>0</th>\n      <td>original</td>\n      <td>none</td>\n      <td>0.529571</td>\n      <td>0.536969</td>\n      <td>0.732781</td>\n      <td>0.597049</td>\n      <td>NaN</td>\n      <td>NaN</td>\n      <td>NaN</td>\n      <td>NaN</td>\n    </tr>\n  </tbody>\n</table>\n</div>"
     },
     "metadata": {},
     "execution_count": 42
    }
   ],
   "source": [
    "res_frame = pd.DataFrame({'data':'original',\n",
    "                   'imputation':'none',\n",
    "                   'mae': orig_mae, \n",
    "                   'mse': orig_mse, \n",
    "                   'rmse':orig_rmse_val, \n",
    "                   'R2':orig_r2,\n",
    "                   'mae_diff':np.nan,\n",
    "                   'mse_diff':np.nan,\n",
    "                   'rmse_diff':np.nan,\n",
    "                   'R2_diff':np.nan}, index=[0])\n",
    "res_frame"
   ]
  },
  {
   "cell_type": "markdown",
   "metadata": {},
   "source": [
    "# Step 2\n",
    "\n",
    "**Here we can randomly sample the full dataset and replace a single column's values** <BR>\n",
    "At first, let's define a function that returns mae, mse, rmse and R2 "
   ]
  },
  {
   "cell_type": "code",
   "execution_count": 43,
   "metadata": {},
   "outputs": [],
   "source": [
    "def regression_func(xdata, ydata, data_desc='none', impute_method='none'):\n",
    "    ''' This function run linear regression with input data, and returns a dataframe of goodness of fit metrics '''\n",
    "\n",
    "    X_train, X_test, y_train, y_test = train_test_split(xdata, ydata, test_size=0.33, random_state=42, shuffle=True)\n",
    "    reg = LinearRegression(normalize=True).fit(X_train, y_train)\n",
    "    y_pred = reg.predict(X_test)\n",
    "\n",
    "    mae = mean_absolute_error(y_test,y_pred)\n",
    "    mse = mean_squared_error(y_test,y_pred)\n",
    "    rmse_val = np.sqrt(mse)\n",
    "    r2 = r2_score(y_test, y_pred)\n",
    "\n",
    "    temp_frame = pd.DataFrame({'data':data_desc,\n",
    "                   'imputation':impute_method,\n",
    "                   'mae': mae, \n",
    "                   'mse': mse, \n",
    "                   'rmse':rmse_val,\n",
    "                   'R2':r2,\n",
    "                   'mae_diff':mae - orig_mae,\n",
    "                   'mse_diff':mse - orig_mse,\n",
    "                   'rmse_diff':rmse_val - orig_rmse_val,\n",
    "                   'R2_diff':r2 - orig_r2\n",
    "                   }, index=[0])\n",
    "\n",
    "    return temp_frame"
   ]
  },
  {
   "cell_type": "markdown",
   "metadata": {},
   "source": [
    "It works ok when tested with the original data"
   ]
  },
  {
   "cell_type": "code",
   "execution_count": 44,
   "metadata": {},
   "outputs": [
    {
     "output_type": "execute_result",
     "data": {
      "text/plain": "   data imputation       mae       mse      rmse        R2  mae_diff  \\\n0  none       none  0.529571  0.536969  0.732781  0.597049       0.0   \n\n   mse_diff  rmse_diff  R2_diff  \n0       0.0        0.0      0.0  ",
      "text/html": "<div>\n<style scoped>\n    .dataframe tbody tr th:only-of-type {\n        vertical-align: middle;\n    }\n\n    .dataframe tbody tr th {\n        vertical-align: top;\n    }\n\n    .dataframe thead th {\n        text-align: right;\n    }\n</style>\n<table border=\"1\" class=\"dataframe\">\n  <thead>\n    <tr style=\"text-align: right;\">\n      <th></th>\n      <th>data</th>\n      <th>imputation</th>\n      <th>mae</th>\n      <th>mse</th>\n      <th>rmse</th>\n      <th>R2</th>\n      <th>mae_diff</th>\n      <th>mse_diff</th>\n      <th>rmse_diff</th>\n      <th>R2_diff</th>\n    </tr>\n  </thead>\n  <tbody>\n    <tr>\n      <th>0</th>\n      <td>none</td>\n      <td>none</td>\n      <td>0.529571</td>\n      <td>0.536969</td>\n      <td>0.732781</td>\n      <td>0.597049</td>\n      <td>0.0</td>\n      <td>0.0</td>\n      <td>0.0</td>\n      <td>0.0</td>\n    </tr>\n  </tbody>\n</table>\n</div>"
     },
     "metadata": {},
     "execution_count": 44
    }
   ],
   "source": [
    "regression_func(X, y)"
   ]
  },
  {
   "cell_type": "markdown",
   "metadata": {},
   "source": [
    "Now define a function to nullify a column, and infer the missing value from the median of other non-missing values"
   ]
  },
  {
   "cell_type": "code",
   "execution_count": 45,
   "metadata": {},
   "outputs": [],
   "source": [
    "def impute_by_median(xdata, col_name, null_frac):\n",
    "    ''' this function nullify the fraction of the input datafarme's column, and impute it by the median value of remaining non-null values. The result is returned as a data frame'''\n",
    "    \n",
    "    in_sample = xdata.sample(frac=null_frac, random_state=42)\n",
    "    out_sample = xdata[~xdata.isin(in_sample)].dropna()\n",
    "    in_sample[col_name] = np.nan\n",
    "    in_sample[col_name] = in_sample[col_name].fillna(out_sample[col_name].median())\n",
    "    imputed_data = pd.concat([in_sample, out_sample]).sort_index()\n",
    "\n",
    "    return imputed_data\n",
    "\n",
    "\n"
   ]
  },
  {
   "cell_type": "markdown",
   "metadata": {},
   "source": [
    "Question 2: In each case 1%, 5%, 10%, 20%, 33%, 50% perform a fit with the imputed data and compare the loss and goodness of fit to your baseline.  Note: you should have (6) models to compare against your baseline at this point."
   ]
  },
  {
   "cell_type": "markdown",
   "metadata": {},
   "source": [
    "We will try 'impute mssing value by median' method for 'AveRooms' variable"
   ]
  },
  {
   "cell_type": "code",
   "execution_count": 46,
   "metadata": {
    "tags": []
   },
   "outputs": [],
   "source": [
    "fractions = [0.01, 0.05, 0.1, 0.2, 0.33, 0.5]\n",
    "\n",
    "for fraction in fractions:\n",
    "    X_imputed = impute_by_median(X, 'AveRooms', fraction)\n",
    "    data_desc='Nullify ' + str(fraction*100) + '%'\n",
    "    temp_result = regression_func(X_imputed, y, data_desc , impute_method='median') \n",
    "\n",
    "    #print(temp_result)\n",
    "    res_frame = pd.concat([res_frame, temp_result])"
   ]
  },
  {
   "cell_type": "code",
   "execution_count": 47,
   "metadata": {},
   "outputs": [
    {
     "output_type": "execute_result",
     "data": {
      "text/plain": "            data imputation       mae       mse      rmse        R2  mae_diff  \\\n0       original       none  0.529571  0.536969  0.732781  0.597049       NaN   \n1   Nullify 1.0%     median  0.530093  0.538481  0.733813  0.595914  0.000522   \n2   Nullify 5.0%     median  0.531264  0.540778  0.735376  0.594191  0.001693   \n3  Nullify 10.0%     median  0.534101  0.556453  0.745958  0.582428  0.004530   \n4  Nullify 20.0%     median  0.540786  0.649251  0.805761  0.512791  0.011215   \n5  Nullify 33.0%     median  0.547262  0.673146  0.820455  0.494860  0.017691   \n6  Nullify 50.0%     median  0.537447  0.562518  0.750012  0.577877  0.007876   \n\n   mse_diff  rmse_diff   R2_diff  \n0       NaN        NaN       NaN  \n1  0.001512   0.001031 -0.001135  \n2  0.003809   0.002594 -0.002858  \n3  0.019485   0.013176 -0.014622  \n4  0.112282   0.072979 -0.084258  \n5  0.136177   0.087673 -0.102190  \n6  0.025549   0.017230 -0.019172  ",
      "text/html": "<div>\n<style scoped>\n    .dataframe tbody tr th:only-of-type {\n        vertical-align: middle;\n    }\n\n    .dataframe tbody tr th {\n        vertical-align: top;\n    }\n\n    .dataframe thead th {\n        text-align: right;\n    }\n</style>\n<table border=\"1\" class=\"dataframe\">\n  <thead>\n    <tr style=\"text-align: right;\">\n      <th></th>\n      <th>data</th>\n      <th>imputation</th>\n      <th>mae</th>\n      <th>mse</th>\n      <th>rmse</th>\n      <th>R2</th>\n      <th>mae_diff</th>\n      <th>mse_diff</th>\n      <th>rmse_diff</th>\n      <th>R2_diff</th>\n    </tr>\n  </thead>\n  <tbody>\n    <tr>\n      <th>0</th>\n      <td>original</td>\n      <td>none</td>\n      <td>0.529571</td>\n      <td>0.536969</td>\n      <td>0.732781</td>\n      <td>0.597049</td>\n      <td>NaN</td>\n      <td>NaN</td>\n      <td>NaN</td>\n      <td>NaN</td>\n    </tr>\n    <tr>\n      <th>1</th>\n      <td>Nullify 1.0%</td>\n      <td>median</td>\n      <td>0.530093</td>\n      <td>0.538481</td>\n      <td>0.733813</td>\n      <td>0.595914</td>\n      <td>0.000522</td>\n      <td>0.001512</td>\n      <td>0.001031</td>\n      <td>-0.001135</td>\n    </tr>\n    <tr>\n      <th>2</th>\n      <td>Nullify 5.0%</td>\n      <td>median</td>\n      <td>0.531264</td>\n      <td>0.540778</td>\n      <td>0.735376</td>\n      <td>0.594191</td>\n      <td>0.001693</td>\n      <td>0.003809</td>\n      <td>0.002594</td>\n      <td>-0.002858</td>\n    </tr>\n    <tr>\n      <th>3</th>\n      <td>Nullify 10.0%</td>\n      <td>median</td>\n      <td>0.534101</td>\n      <td>0.556453</td>\n      <td>0.745958</td>\n      <td>0.582428</td>\n      <td>0.004530</td>\n      <td>0.019485</td>\n      <td>0.013176</td>\n      <td>-0.014622</td>\n    </tr>\n    <tr>\n      <th>4</th>\n      <td>Nullify 20.0%</td>\n      <td>median</td>\n      <td>0.540786</td>\n      <td>0.649251</td>\n      <td>0.805761</td>\n      <td>0.512791</td>\n      <td>0.011215</td>\n      <td>0.112282</td>\n      <td>0.072979</td>\n      <td>-0.084258</td>\n    </tr>\n    <tr>\n      <th>5</th>\n      <td>Nullify 33.0%</td>\n      <td>median</td>\n      <td>0.547262</td>\n      <td>0.673146</td>\n      <td>0.820455</td>\n      <td>0.494860</td>\n      <td>0.017691</td>\n      <td>0.136177</td>\n      <td>0.087673</td>\n      <td>-0.102190</td>\n    </tr>\n    <tr>\n      <th>6</th>\n      <td>Nullify 50.0%</td>\n      <td>median</td>\n      <td>0.537447</td>\n      <td>0.562518</td>\n      <td>0.750012</td>\n      <td>0.577877</td>\n      <td>0.007876</td>\n      <td>0.025549</td>\n      <td>0.017230</td>\n      <td>-0.019172</td>\n    </tr>\n  </tbody>\n</table>\n</div>"
     },
     "metadata": {},
     "execution_count": 47
    }
   ],
   "source": [
    "res_frame = res_frame.reset_index(drop=True)\n",
    "res_frame"
   ]
  },
  {
   "cell_type": "code",
   "execution_count": null,
   "metadata": {},
   "outputs": [],
   "source": []
  }
 ],
 "metadata": {
  "language_info": {
   "codemirror_mode": {
    "name": "ipython",
    "version": 3
   },
   "file_extension": ".py",
   "mimetype": "text/x-python",
   "name": "python",
   "nbconvert_exporter": "python",
   "pygments_lexer": "ipython3",
   "version": "3.7.4-final"
  },
  "orig_nbformat": 2,
  "kernelspec": {
   "name": "python35664bitdataminingcondaf7999928657c41beb635461686ac2818",
   "display_name": "Python 3.5.6 64-bit ('datamining': conda)"
  }
 },
 "nbformat": 4,
 "nbformat_minor": 2
}
