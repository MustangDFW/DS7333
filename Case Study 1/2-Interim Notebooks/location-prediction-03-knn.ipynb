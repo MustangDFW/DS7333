{
 "cells": [
  {
   "cell_type": "markdown",
   "metadata": {},
   "source": [
    "# Predicting Location via Indoor Positioning System \n",
    "## Analysis and Modeling in Python \n",
    "This script and subsequent notebooks are the Python conversion of the Indoor Location case study from the book, 'Data Science in R' by Nolan and Lang. http://rdatasciencecases.org/code.html <BR>\n",
    "* Team: Jonathan Tan, Lance Dacy, Reannan Mcdaniel, Shawn Jung \n",
    "* Last Update: 5/14/2020 "
   ]
  },
  {
   "cell_type": "code",
   "execution_count": 1,
   "metadata": {},
   "outputs": [],
   "source": [
    "import pandas as pd \n",
    "import numpy as np \n",
    "import matplotlib.pyplot as plt \n",
    "import seaborn as sns \n",
    "#from statsmodels.distributions.empirical_distribution import ECDF\n",
    "%matplotlib inline "
   ]
  },
  {
   "cell_type": "code",
   "execution_count": 13,
   "metadata": {},
   "outputs": [],
   "source": [
    "# Let's load dataframes\n",
    "offline_pivot = pd.read_csv('./data/offline_pivot.csv')\n",
    "online_pivot = pd.read_csv('./data/online_pivot.csv')\n",
    "\n",
    "# re-add pos_x and pos_y for distance error calculation in later stage\n",
    "offline_pivot[['pos_x', 'pos_y']] = offline_pivot['pos_xy'].str.split('-',n=2, expand=True).astype(float)\n",
    "online_pivot[['pos_x', 'pos_y']] = online_pivot['pos_xy'].str.split('-',n=2, expand=True).astype(float)"
   ]
  },
  {
   "cell_type": "code",
   "execution_count": 27,
   "metadata": {},
   "outputs": [],
   "source": [
    "test0 = online_pivot.iloc[0,1:8]\n",
    "train0 = offline_pivot.iloc[0,1:8]"
   ]
  },
  {
   "cell_type": "code",
   "execution_count": 26,
   "metadata": {},
   "outputs": [
    {
     "output_type": "execute_result",
     "data": {
      "text/plain": "10.412954827804205"
     },
     "metadata": {},
     "execution_count": 26
    }
   ],
   "source": [
    "# the Euclidean distance of first records of each data frame can be calcualted like this. \n",
    "np.sqrt(np.sum(np.square((np.array(test0) - np.array(train0)))))"
   ]
  },
  {
   "cell_type": "code",
   "execution_count": 57,
   "metadata": {},
   "outputs": [],
   "source": [
    "def distance(test_array, train_df, number_of_returns=1):\n",
    "    dist = []\n",
    "    for i in range(train_df.shape[0]):\n",
    "        d = np.sqrt(np.sum(np.square((np.array(test_array) - np.array(train_df)[i]))))\n",
    "        dist.append(d)\n",
    "    \n",
    "    dist_result = np.array(dist)\n",
    "    \n",
    "    # return top n lowest values\n",
    "\n",
    "    return dist_result.argsort()[0:number_of_returns][::-1]\n",
    "\n",
    "\n",
    "\n"
   ]
  },
  {
   "cell_type": "code",
   "execution_count": 63,
   "metadata": {},
   "outputs": [
    {
     "output_type": "stream",
     "name": "stdout",
     "text": "predicted location: 18    1.0-2.0\nName: pos_xy, dtype: object\noriginal location: 0.0-0.05\n"
    }
   ],
   "source": [
    "test0_pred = distance(test0, offline_pivot.iloc[:,1:8], 1)\n",
    "\n",
    "print('predicted location:', offline_pivot.iloc[test0_pred]['pos_xy'])\n",
    "print('original location:', online_pivot.iloc[0]['pos_xy'])"
   ]
  },
  {
   "cell_type": "code",
   "execution_count": null,
   "metadata": {},
   "outputs": [],
   "source": []
  }
 ],
 "metadata": {
  "language_info": {
   "codemirror_mode": {
    "name": "ipython",
    "version": 3
   },
   "file_extension": ".py",
   "mimetype": "text/x-python",
   "name": "python",
   "nbconvert_exporter": "python",
   "pygments_lexer": "ipython3",
   "version": "3.7.6-final"
  },
  "orig_nbformat": 2,
  "kernelspec": {
   "name": "python37664bitmlearnconda0083abed3f784a9c9440b2aa200e0f06",
   "display_name": "Python 3.7.6 64-bit ('mlearn': conda)"
  }
 },
 "nbformat": 4,
 "nbformat_minor": 2
}