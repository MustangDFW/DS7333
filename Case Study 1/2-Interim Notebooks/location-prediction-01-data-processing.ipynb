{
 "cells": [
  {
   "cell_type": "markdown",
   "metadata": {},
   "source": [
    "# Predicting Location via Indoor Positioning System \n",
    "## Data Preprocessing in Python \n",
    "This script and subsequent notebooks are the Python conversion of the Indoor Location case study from the book, 'Data Science in R' by Nolan and Lang. http://rdatasciencecases.org/code.html <BR>\n",
    "* Team: Jonathan Tan, Lance Dacy, Reannan Mcdaniel, Shawn Jung \n",
    "* Last Update: 5/5/2020 "
   ]
  },
  {
   "cell_type": "code",
   "execution_count": 1,
   "metadata": {},
   "outputs": [],
   "source": [
    "import pandas as pd \n",
    "import numpy as np \n",
    "import matplotlib.pyplot as plt \n",
    "%matplotlib inline  "
   ]
  },
  {
   "cell_type": "code",
   "execution_count": 2,
   "metadata": {},
   "outputs": [
    {
     "output_type": "stream",
     "name": "stdout",
     "text": "the number of comment lines : 5312\nthe number of payload lines: 146080\n"
    }
   ],
   "source": [
    "# the raw text files are not in a csv format, and the first few lines are comments. Let's check if the comments exist in other parts as well. \n",
    "with open ('./data/offline.final.trace.txt',) as offline_file:\n",
    "    comment_count = 0\n",
    "    payload_count = 0 \n",
    "    comment_str = [] \n",
    "    payload_str = []\n",
    "    for line in offline_file:\n",
    "        if line.startswith('#'):\n",
    "            comment_count += 1\n",
    "            comment_str.append(line)\n",
    "        else:\n",
    "            payload_count += 1\n",
    "            payload_str.append(line)\n",
    "\n",
    "print('the number of comment lines : %s' % comment_count)\n",
    "print('the number of payload lines: %s' % payload_count)\n",
    "\n"
   ]
  },
  {
   "cell_type": "code",
   "execution_count": 3,
   "metadata": {},
   "outputs": [
    {
     "output_type": "execute_result",
     "data": {
      "text/plain": "'t=1139643119538;id=00:02:2D:21:0F:33;pos=0.0,0.0,0.0;degree=0.0;00:14:bf:b1:97:8a=-46,2437000000,3;00:0f:a3:39:e1:c0=-55,2462000000,3;00:14:bf:b1:97:90=-57,2427000000,3;00:14:bf:3b:c7:c6=-67,2432000000,3;00:0f:a3:39:dd:cd=-66,2412000000,3;00:0f:a3:39:e0:4b=-80,2462000000,3;00:0f:a3:39:e2:10=-83,2437000000,3;00:14:bf:b1:97:81=-66,2422000000,3;02:00:42:55:31:00=-87,2457000000,1\\n'"
     },
     "metadata": {},
     "execution_count": 3
    }
   ],
   "source": [
    "# processing the raw data \n",
    "# it appears that each element can be separated by semicolons. And we see each key/value is defined with the 'equal' sign, and values such as position(pos) is seprated by commas \n",
    "payload_str[4]"
   ]
  },
  {
   "cell_type": "code",
   "execution_count": 4,
   "metadata": {},
   "outputs": [],
   "source": [
    "# I will define a function to process each line into tabular records consisted of raw time, scan MAC address, positions, orientation and signal data, similar to 'processLine' R function in the book. But I did not take this route as it took so long. Leaving the code here for furture reference. \n",
    "\n",
    "def process_line(payload_line):\n",
    "    raw_time = payload_line.split(';')[0].split('=')[1]\n",
    "    scan_mac = payload_line.split(';')[1].split('=')[1]\n",
    "    pos_x, pos_y, pos_z = payload_line.split(';')[2].split('=')[1].split(',')\n",
    "    orientation = payload_line.split(';')[3].split('=')[1]\n",
    "\n",
    "    df1 = pd.DataFrame({'raw_time':[raw_time], 'scan_mac':[scan_mac], 'pos_x':[pos_x], 'pos_y':[pos_y], 'pos_z':[pos_z], 'orientation':[orientation]})\n",
    "\n",
    "    scan_mac, mac, signal, channel, device_type = [], [], [], [], [] \n",
    "\n",
    "    for i in range(len(payload_line.split(';')[4:])):\n",
    "        scan_mac.append(payload_line.split(';')[1].split('=')[1])\n",
    "        mac.append(payload_line.split(';')[i+4].split('=')[0])\n",
    "        signal.append(payload_line.split(';')[i+4].split('=')[1].split(',')[0])\n",
    "        channel.append(payload_line.split(';')[i+4].split('=')[1].split(',')[1])\n",
    "        device_type.append(payload_line.split(';')[i+4].split('=')[1].split(',')[2])\n",
    "\n",
    "    df2 = pd.DataFrame({'scan_mac':scan_mac,'mac':mac, 'signal':signal, 'channel':channel, 'device_type':device_type})\n",
    "\n",
    "    #df_line = df1.merge(df2)\n",
    "    return df1, df2"
   ]
  },
  {
   "cell_type": "code",
   "execution_count": 5,
   "metadata": {},
   "outputs": [],
   "source": [
    "# Let's check if the function works\n",
    "#process_line(payload_str[4].rstrip())"
   ]
  },
  {
   "cell_type": "code",
   "execution_count": 6,
   "metadata": {},
   "outputs": [],
   "source": [
    "# BTW, applying the function to all payload lines take long time. There can be a faster way in Python as they did with R, but I would rather try processing them with Pandas\n",
    "\n",
    "#df_offline1 = pd.DataFrame()\n",
    "#df_offline2 = pd.DataFrame()\n",
    "\n",
    "#for line in payload_str:\n",
    "#    df_temp1, df_temp2 = process_line(line.rstrip())\n",
    "\n",
    "#    df_offline1 = df_offline1.append(df_temp1)\n",
    "#    df_offline2 = df_offline2.append(df_temp2)\n",
    "#df_offline = df_offline1.merge(df_offline2)    "
   ]
  },
  {
   "cell_type": "markdown",
   "metadata": {},
   "source": [
    "Processing with Pandas"
   ]
  },
  {
   "cell_type": "code",
   "execution_count": 7,
   "metadata": {},
   "outputs": [],
   "source": [
    "offline = pd.DataFrame(payload_str, columns=['original'])"
   ]
  },
  {
   "cell_type": "code",
   "execution_count": 8,
   "metadata": {},
   "outputs": [
    {
     "output_type": "execute_result",
     "data": {
      "text/plain": "                 0                     1                2           3  \\\n0  t=1139643118358  id=00:02:2D:21:0F:33  pos=0.0,0.0,0.0  degree=0.0   \n1  t=1139643118744  id=00:02:2D:21:0F:33  pos=0.0,0.0,0.0  degree=0.0   \n2  t=1139643119002  id=00:02:2D:21:0F:33  pos=0.0,0.0,0.0  degree=0.0   \n3  t=1139643119263  id=00:02:2D:21:0F:33  pos=0.0,0.0,0.0  degree=0.0   \n4  t=1139643119538  id=00:02:2D:21:0F:33  pos=0.0,0.0,0.0  degree=0.0   \n\n                                                   4  \n0  00:14:bf:b1:97:8a=-38,2437000000,3;00:14:bf:b1...  \n1  00:14:bf:b1:97:8a=-38,2437000000,3;00:0f:a3:39...  \n2  00:14:bf:b1:97:8a=-38,2437000000,3;00:0f:a3:39...  \n3  00:14:bf:b1:97:8a=-38,2437000000,3;00:14:bf:b1...  \n4  00:14:bf:b1:97:8a=-46,2437000000,3;00:0f:a3:39...  ",
      "text/html": "<div>\n<style scoped>\n    .dataframe tbody tr th:only-of-type {\n        vertical-align: middle;\n    }\n\n    .dataframe tbody tr th {\n        vertical-align: top;\n    }\n\n    .dataframe thead th {\n        text-align: right;\n    }\n</style>\n<table border=\"1\" class=\"dataframe\">\n  <thead>\n    <tr style=\"text-align: right;\">\n      <th></th>\n      <th>0</th>\n      <th>1</th>\n      <th>2</th>\n      <th>3</th>\n      <th>4</th>\n    </tr>\n  </thead>\n  <tbody>\n    <tr>\n      <th>0</th>\n      <td>t=1139643118358</td>\n      <td>id=00:02:2D:21:0F:33</td>\n      <td>pos=0.0,0.0,0.0</td>\n      <td>degree=0.0</td>\n      <td>00:14:bf:b1:97:8a=-38,2437000000,3;00:14:bf:b1...</td>\n    </tr>\n    <tr>\n      <th>1</th>\n      <td>t=1139643118744</td>\n      <td>id=00:02:2D:21:0F:33</td>\n      <td>pos=0.0,0.0,0.0</td>\n      <td>degree=0.0</td>\n      <td>00:14:bf:b1:97:8a=-38,2437000000,3;00:0f:a3:39...</td>\n    </tr>\n    <tr>\n      <th>2</th>\n      <td>t=1139643119002</td>\n      <td>id=00:02:2D:21:0F:33</td>\n      <td>pos=0.0,0.0,0.0</td>\n      <td>degree=0.0</td>\n      <td>00:14:bf:b1:97:8a=-38,2437000000,3;00:0f:a3:39...</td>\n    </tr>\n    <tr>\n      <th>3</th>\n      <td>t=1139643119263</td>\n      <td>id=00:02:2D:21:0F:33</td>\n      <td>pos=0.0,0.0,0.0</td>\n      <td>degree=0.0</td>\n      <td>00:14:bf:b1:97:8a=-38,2437000000,3;00:14:bf:b1...</td>\n    </tr>\n    <tr>\n      <th>4</th>\n      <td>t=1139643119538</td>\n      <td>id=00:02:2D:21:0F:33</td>\n      <td>pos=0.0,0.0,0.0</td>\n      <td>degree=0.0</td>\n      <td>00:14:bf:b1:97:8a=-46,2437000000,3;00:0f:a3:39...</td>\n    </tr>\n  </tbody>\n</table>\n</div>"
     },
     "metadata": {},
     "execution_count": 8
    }
   ],
   "source": [
    "# The raw data is in a kind of nested structure. So I will first take care of the position and time data per each obsevation \n",
    "offline = offline['original'].str.split(';',n=4, expand=True)\n",
    "offline.head()"
   ]
  },
  {
   "cell_type": "code",
   "execution_count": 9,
   "metadata": {},
   "outputs": [],
   "source": [
    "# Handling time data\n",
    "offline['raw_time'] = pd.to_datetime(pd.to_numeric(offline[0].str.replace('t=','')), unit='ms')\n",
    "offline = offline.drop(0, axis=1)"
   ]
  },
  {
   "cell_type": "code",
   "execution_count": 10,
   "metadata": {},
   "outputs": [],
   "source": [
    "# the scan MAC address info \n",
    "offline['scan_mac']= offline[1].str.replace('id=','')\n",
    "offline = offline.drop(1, axis=1)"
   ]
  },
  {
   "cell_type": "code",
   "execution_count": 11,
   "metadata": {},
   "outputs": [],
   "source": [
    "# parsing the 3-D position and orientation \n",
    "offline[['pos_x', 'pos_y','pos_z']] = offline[2].str.replace('pos=','').str.split(',',n=3, expand=True)\n",
    "offline['orientation'] = offline[3].str.replace('degree=','')\n",
    "offline = offline.drop([2,3], axis=1)"
   ]
  },
  {
   "cell_type": "code",
   "execution_count": 12,
   "metadata": {},
   "outputs": [],
   "source": [
    "offline[['pos_x', 'pos_y','pos_z', 'orientation']] = offline[['pos_x', 'pos_y','pos_z', 'orientation']].apply(pd.to_numeric, axis=1)"
   ]
  },
  {
   "cell_type": "code",
   "execution_count": 13,
   "metadata": {},
   "outputs": [],
   "source": [
    "# stacking up the nested signal measurement as a separate df, 'off_signal'. This df will be joined to the original df\n",
    "off_signal = offline[4].copy()\n",
    "offline = offline.drop(4, axis=1)\n",
    "\n",
    "off_signal = off_signal.str.split(';', expand=True).stack(dropna=True).reset_index(level=[0]).set_index('level_0')\n",
    "off_signal[['mac','signal_raw']] = off_signal[0].str.split('=', expand=True)\n",
    "off_signal[['signal', 'channel', 'device_type']] = off_signal['signal_raw'].str.split(',', expand=True)\n",
    "off_signal['signal'] = off_signal['signal'].apply(pd.to_numeric)\n",
    "off_signal = off_signal.drop([0,'signal_raw'], axis=1)"
   ]
  },
  {
   "cell_type": "code",
   "execution_count": 14,
   "metadata": {},
   "outputs": [],
   "source": [
    "# finally, join the data frame \n",
    "offline = offline.join(off_signal)"
   ]
  },
  {
   "cell_type": "code",
   "execution_count": 15,
   "metadata": {},
   "outputs": [
    {
     "output_type": "execute_result",
     "data": {
      "text/plain": "                 raw_time           scan_mac  pos_x  pos_y  pos_z  \\\n0 2006-02-11 07:31:58.358  00:02:2D:21:0F:33    0.0    0.0    0.0   \n0 2006-02-11 07:31:58.358  00:02:2D:21:0F:33    0.0    0.0    0.0   \n0 2006-02-11 07:31:58.358  00:02:2D:21:0F:33    0.0    0.0    0.0   \n0 2006-02-11 07:31:58.358  00:02:2D:21:0F:33    0.0    0.0    0.0   \n0 2006-02-11 07:31:58.358  00:02:2D:21:0F:33    0.0    0.0    0.0   \n\n   orientation                mac  signal     channel device_type  \n0          0.0  00:14:bf:b1:97:8a   -38.0  2437000000           3  \n0          0.0  00:14:bf:b1:97:90   -56.0  2427000000           3  \n0          0.0  00:0f:a3:39:e1:c0   -53.0  2462000000           3  \n0          0.0  00:14:bf:b1:97:8d   -65.0  2442000000           3  \n0          0.0  00:14:bf:b1:97:81   -65.0  2422000000           3  ",
      "text/html": "<div>\n<style scoped>\n    .dataframe tbody tr th:only-of-type {\n        vertical-align: middle;\n    }\n\n    .dataframe tbody tr th {\n        vertical-align: top;\n    }\n\n    .dataframe thead th {\n        text-align: right;\n    }\n</style>\n<table border=\"1\" class=\"dataframe\">\n  <thead>\n    <tr style=\"text-align: right;\">\n      <th></th>\n      <th>raw_time</th>\n      <th>scan_mac</th>\n      <th>pos_x</th>\n      <th>pos_y</th>\n      <th>pos_z</th>\n      <th>orientation</th>\n      <th>mac</th>\n      <th>signal</th>\n      <th>channel</th>\n      <th>device_type</th>\n    </tr>\n  </thead>\n  <tbody>\n    <tr>\n      <th>0</th>\n      <td>2006-02-11 07:31:58.358</td>\n      <td>00:02:2D:21:0F:33</td>\n      <td>0.0</td>\n      <td>0.0</td>\n      <td>0.0</td>\n      <td>0.0</td>\n      <td>00:14:bf:b1:97:8a</td>\n      <td>-38.0</td>\n      <td>2437000000</td>\n      <td>3</td>\n    </tr>\n    <tr>\n      <th>0</th>\n      <td>2006-02-11 07:31:58.358</td>\n      <td>00:02:2D:21:0F:33</td>\n      <td>0.0</td>\n      <td>0.0</td>\n      <td>0.0</td>\n      <td>0.0</td>\n      <td>00:14:bf:b1:97:90</td>\n      <td>-56.0</td>\n      <td>2427000000</td>\n      <td>3</td>\n    </tr>\n    <tr>\n      <th>0</th>\n      <td>2006-02-11 07:31:58.358</td>\n      <td>00:02:2D:21:0F:33</td>\n      <td>0.0</td>\n      <td>0.0</td>\n      <td>0.0</td>\n      <td>0.0</td>\n      <td>00:0f:a3:39:e1:c0</td>\n      <td>-53.0</td>\n      <td>2462000000</td>\n      <td>3</td>\n    </tr>\n    <tr>\n      <th>0</th>\n      <td>2006-02-11 07:31:58.358</td>\n      <td>00:02:2D:21:0F:33</td>\n      <td>0.0</td>\n      <td>0.0</td>\n      <td>0.0</td>\n      <td>0.0</td>\n      <td>00:14:bf:b1:97:8d</td>\n      <td>-65.0</td>\n      <td>2442000000</td>\n      <td>3</td>\n    </tr>\n    <tr>\n      <th>0</th>\n      <td>2006-02-11 07:31:58.358</td>\n      <td>00:02:2D:21:0F:33</td>\n      <td>0.0</td>\n      <td>0.0</td>\n      <td>0.0</td>\n      <td>0.0</td>\n      <td>00:14:bf:b1:97:81</td>\n      <td>-65.0</td>\n      <td>2422000000</td>\n      <td>3</td>\n    </tr>\n  </tbody>\n</table>\n</div>"
     },
     "metadata": {},
     "execution_count": 15
    }
   ],
   "source": [
    "offline.head()"
   ]
  },
  {
   "cell_type": "code",
   "execution_count": 16,
   "metadata": {},
   "outputs": [],
   "source": [
    "# as explained in the book(p. 14), we can remove pos_z since we are interested in the 2-D-ish position indoor. And apply filtering on device-type (access point only) Refer to the Chapter 1 of the book for further information \n",
    "offline = offline[offline['device_type'] == '3']\n",
    "offline = offline.drop(['scan_mac', 'pos_z'], axis=1)"
   ]
  },
  {
   "cell_type": "code",
   "execution_count": 17,
   "metadata": {},
   "outputs": [
    {
     "output_type": "execute_result",
     "data": {
      "text/plain": "               pos_x          pos_y    orientation         signal\ncount  963604.000000  963604.000000  963604.000000  963604.000000\nmean       13.545048       5.886030     167.172387     -61.500762\nstd        10.652896       2.740405     105.012372      12.071176\nmin         0.000000       0.000000       0.000000     -99.000000\n25%         2.000000       3.000000      90.000000     -69.000000\n50%        12.000000       6.000000     180.000000     -60.000000\n75%        23.000000       8.000000     270.000000     -53.000000\nmax        33.000000      13.000000     359.900000     -25.000000",
      "text/html": "<div>\n<style scoped>\n    .dataframe tbody tr th:only-of-type {\n        vertical-align: middle;\n    }\n\n    .dataframe tbody tr th {\n        vertical-align: top;\n    }\n\n    .dataframe thead th {\n        text-align: right;\n    }\n</style>\n<table border=\"1\" class=\"dataframe\">\n  <thead>\n    <tr style=\"text-align: right;\">\n      <th></th>\n      <th>pos_x</th>\n      <th>pos_y</th>\n      <th>orientation</th>\n      <th>signal</th>\n    </tr>\n  </thead>\n  <tbody>\n    <tr>\n      <th>count</th>\n      <td>963604.000000</td>\n      <td>963604.000000</td>\n      <td>963604.000000</td>\n      <td>963604.000000</td>\n    </tr>\n    <tr>\n      <th>mean</th>\n      <td>13.545048</td>\n      <td>5.886030</td>\n      <td>167.172387</td>\n      <td>-61.500762</td>\n    </tr>\n    <tr>\n      <th>std</th>\n      <td>10.652896</td>\n      <td>2.740405</td>\n      <td>105.012372</td>\n      <td>12.071176</td>\n    </tr>\n    <tr>\n      <th>min</th>\n      <td>0.000000</td>\n      <td>0.000000</td>\n      <td>0.000000</td>\n      <td>-99.000000</td>\n    </tr>\n    <tr>\n      <th>25%</th>\n      <td>2.000000</td>\n      <td>3.000000</td>\n      <td>90.000000</td>\n      <td>-69.000000</td>\n    </tr>\n    <tr>\n      <th>50%</th>\n      <td>12.000000</td>\n      <td>6.000000</td>\n      <td>180.000000</td>\n      <td>-60.000000</td>\n    </tr>\n    <tr>\n      <th>75%</th>\n      <td>23.000000</td>\n      <td>8.000000</td>\n      <td>270.000000</td>\n      <td>-53.000000</td>\n    </tr>\n    <tr>\n      <th>max</th>\n      <td>33.000000</td>\n      <td>13.000000</td>\n      <td>359.900000</td>\n      <td>-25.000000</td>\n    </tr>\n  </tbody>\n</table>\n</div>"
     },
     "metadata": {},
     "execution_count": 17
    }
   ],
   "source": [
    "offline.describe()"
   ]
  },
  {
   "cell_type": "code",
   "execution_count": 18,
   "metadata": {},
   "outputs": [
    {
     "output_type": "stream",
     "name": "stdout",
     "text": "203\n"
    }
   ],
   "source": [
    "# Orientation data is supposed to have 8 unique values, but it seems that there are slight variation from the measurement. \n",
    "print(len(offline['orientation'].unique()))"
   ]
  },
  {
   "cell_type": "code",
   "execution_count": 19,
   "metadata": {},
   "outputs": [
    {
     "output_type": "display_data",
     "data": {
      "text/plain": "<Figure size 432x288 with 1 Axes>",
      "image/svg+xml": "<?xml version=\"1.0\" encoding=\"utf-8\" standalone=\"no\"?>\r\n<!DOCTYPE svg PUBLIC \"-//W3C//DTD SVG 1.1//EN\"\r\n  \"http://www.w3.org/Graphics/SVG/1.1/DTD/svg11.dtd\">\r\n<!-- Created with matplotlib (https://matplotlib.org/) -->\r\n<svg height=\"248.518125pt\" version=\"1.1\" viewBox=\"0 0 375.2875 248.518125\" width=\"375.2875pt\" xmlns=\"http://www.w3.org/2000/svg\" xmlns:xlink=\"http://www.w3.org/1999/xlink\">\r\n <defs>\r\n  <style type=\"text/css\">\r\n*{stroke-linecap:butt;stroke-linejoin:round;}\r\n  </style>\r\n </defs>\r\n <g id=\"figure_1\">\r\n  <g id=\"patch_1\">\r\n   <path d=\"M 0 248.518125 \r\nL 375.2875 248.518125 \r\nL 375.2875 0 \r\nL 0 0 \r\nz\r\n\" style=\"fill:none;\"/>\r\n  </g>\r\n  <g id=\"axes_1\">\r\n   <g id=\"patch_2\">\r\n    <path d=\"M 33.2875 224.64 \r\nL 368.0875 224.64 \r\nL 368.0875 7.2 \r\nL 33.2875 7.2 \r\nz\r\n\" style=\"fill:#ffffff;\"/>\r\n   </g>\r\n   <g id=\"matplotlib.axis_1\">\r\n    <g id=\"xtick_1\">\r\n     <g id=\"line2d_1\">\r\n      <defs>\r\n       <path d=\"M 0 0 \r\nL 0 3.5 \r\n\" id=\"m6d83704fd6\" style=\"stroke:#000000;stroke-width:0.8;\"/>\r\n      </defs>\r\n      <g>\r\n       <use style=\"stroke:#000000;stroke-width:0.8;\" x=\"48.505682\" xlink:href=\"#m6d83704fd6\" y=\"224.64\"/>\r\n      </g>\r\n     </g>\r\n     <g id=\"text_1\">\r\n      <!-- 0 -->\r\n      <defs>\r\n       <path d=\"M 31.78125 66.40625 \r\nQ 24.171875 66.40625 20.328125 58.90625 \r\nQ 16.5 51.421875 16.5 36.375 \r\nQ 16.5 21.390625 20.328125 13.890625 \r\nQ 24.171875 6.390625 31.78125 6.390625 \r\nQ 39.453125 6.390625 43.28125 13.890625 \r\nQ 47.125 21.390625 47.125 36.375 \r\nQ 47.125 51.421875 43.28125 58.90625 \r\nQ 39.453125 66.40625 31.78125 66.40625 \r\nz\r\nM 31.78125 74.21875 \r\nQ 44.046875 74.21875 50.515625 64.515625 \r\nQ 56.984375 54.828125 56.984375 36.375 \r\nQ 56.984375 17.96875 50.515625 8.265625 \r\nQ 44.046875 -1.421875 31.78125 -1.421875 \r\nQ 19.53125 -1.421875 13.0625 8.265625 \r\nQ 6.59375 17.96875 6.59375 36.375 \r\nQ 6.59375 54.828125 13.0625 64.515625 \r\nQ 19.53125 74.21875 31.78125 74.21875 \r\nz\r\n\" id=\"DejaVuSans-48\"/>\r\n      </defs>\r\n      <g transform=\"translate(45.324432 239.238437)scale(0.1 -0.1)\">\r\n       <use xlink:href=\"#DejaVuSans-48\"/>\r\n      </g>\r\n     </g>\r\n    </g>\r\n    <g id=\"xtick_2\">\r\n     <g id=\"line2d_2\">\r\n      <g>\r\n       <use style=\"stroke:#000000;stroke-width:0.8;\" x=\"86.174449\" xlink:href=\"#m6d83704fd6\" y=\"224.64\"/>\r\n      </g>\r\n     </g>\r\n     <g id=\"text_2\">\r\n      <!-- 25 -->\r\n      <defs>\r\n       <path d=\"M 19.1875 8.296875 \r\nL 53.609375 8.296875 \r\nL 53.609375 0 \r\nL 7.328125 0 \r\nL 7.328125 8.296875 \r\nQ 12.9375 14.109375 22.625 23.890625 \r\nQ 32.328125 33.6875 34.8125 36.53125 \r\nQ 39.546875 41.84375 41.421875 45.53125 \r\nQ 43.3125 49.21875 43.3125 52.78125 \r\nQ 43.3125 58.59375 39.234375 62.25 \r\nQ 35.15625 65.921875 28.609375 65.921875 \r\nQ 23.96875 65.921875 18.8125 64.3125 \r\nQ 13.671875 62.703125 7.8125 59.421875 \r\nL 7.8125 69.390625 \r\nQ 13.765625 71.78125 18.9375 73 \r\nQ 24.125 74.21875 28.421875 74.21875 \r\nQ 39.75 74.21875 46.484375 68.546875 \r\nQ 53.21875 62.890625 53.21875 53.421875 \r\nQ 53.21875 48.921875 51.53125 44.890625 \r\nQ 49.859375 40.875 45.40625 35.40625 \r\nQ 44.1875 33.984375 37.640625 27.21875 \r\nQ 31.109375 20.453125 19.1875 8.296875 \r\nz\r\n\" id=\"DejaVuSans-50\"/>\r\n       <path d=\"M 10.796875 72.90625 \r\nL 49.515625 72.90625 \r\nL 49.515625 64.59375 \r\nL 19.828125 64.59375 \r\nL 19.828125 46.734375 \r\nQ 21.96875 47.46875 24.109375 47.828125 \r\nQ 26.265625 48.1875 28.421875 48.1875 \r\nQ 40.625 48.1875 47.75 41.5 \r\nQ 54.890625 34.8125 54.890625 23.390625 \r\nQ 54.890625 11.625 47.5625 5.09375 \r\nQ 40.234375 -1.421875 26.90625 -1.421875 \r\nQ 22.3125 -1.421875 17.546875 -0.640625 \r\nQ 12.796875 0.140625 7.71875 1.703125 \r\nL 7.71875 11.625 \r\nQ 12.109375 9.234375 16.796875 8.0625 \r\nQ 21.484375 6.890625 26.703125 6.890625 \r\nQ 35.15625 6.890625 40.078125 11.328125 \r\nQ 45.015625 15.765625 45.015625 23.390625 \r\nQ 45.015625 31 40.078125 35.4375 \r\nQ 35.15625 39.890625 26.703125 39.890625 \r\nQ 22.75 39.890625 18.8125 39.015625 \r\nQ 14.890625 38.140625 10.796875 36.28125 \r\nz\r\n\" id=\"DejaVuSans-53\"/>\r\n      </defs>\r\n      <g transform=\"translate(79.811949 239.238437)scale(0.1 -0.1)\">\r\n       <use xlink:href=\"#DejaVuSans-50\"/>\r\n       <use x=\"63.623047\" xlink:href=\"#DejaVuSans-53\"/>\r\n      </g>\r\n     </g>\r\n    </g>\r\n    <g id=\"xtick_3\">\r\n     <g id=\"line2d_3\">\r\n      <g>\r\n       <use style=\"stroke:#000000;stroke-width:0.8;\" x=\"123.843216\" xlink:href=\"#m6d83704fd6\" y=\"224.64\"/>\r\n      </g>\r\n     </g>\r\n     <g id=\"text_3\">\r\n      <!-- 50 -->\r\n      <g transform=\"translate(117.480716 239.238437)scale(0.1 -0.1)\">\r\n       <use xlink:href=\"#DejaVuSans-53\"/>\r\n       <use x=\"63.623047\" xlink:href=\"#DejaVuSans-48\"/>\r\n      </g>\r\n     </g>\r\n    </g>\r\n    <g id=\"xtick_4\">\r\n     <g id=\"line2d_4\">\r\n      <g>\r\n       <use style=\"stroke:#000000;stroke-width:0.8;\" x=\"161.511982\" xlink:href=\"#m6d83704fd6\" y=\"224.64\"/>\r\n      </g>\r\n     </g>\r\n     <g id=\"text_4\">\r\n      <!-- 75 -->\r\n      <defs>\r\n       <path d=\"M 8.203125 72.90625 \r\nL 55.078125 72.90625 \r\nL 55.078125 68.703125 \r\nL 28.609375 0 \r\nL 18.3125 0 \r\nL 43.21875 64.59375 \r\nL 8.203125 64.59375 \r\nz\r\n\" id=\"DejaVuSans-55\"/>\r\n      </defs>\r\n      <g transform=\"translate(155.149482 239.238437)scale(0.1 -0.1)\">\r\n       <use xlink:href=\"#DejaVuSans-55\"/>\r\n       <use x=\"63.623047\" xlink:href=\"#DejaVuSans-53\"/>\r\n      </g>\r\n     </g>\r\n    </g>\r\n    <g id=\"xtick_5\">\r\n     <g id=\"line2d_5\">\r\n      <g>\r\n       <use style=\"stroke:#000000;stroke-width:0.8;\" x=\"199.180749\" xlink:href=\"#m6d83704fd6\" y=\"224.64\"/>\r\n      </g>\r\n     </g>\r\n     <g id=\"text_5\">\r\n      <!-- 100 -->\r\n      <defs>\r\n       <path d=\"M 12.40625 8.296875 \r\nL 28.515625 8.296875 \r\nL 28.515625 63.921875 \r\nL 10.984375 60.40625 \r\nL 10.984375 69.390625 \r\nL 28.421875 72.90625 \r\nL 38.28125 72.90625 \r\nL 38.28125 8.296875 \r\nL 54.390625 8.296875 \r\nL 54.390625 0 \r\nL 12.40625 0 \r\nz\r\n\" id=\"DejaVuSans-49\"/>\r\n      </defs>\r\n      <g transform=\"translate(189.636999 239.238437)scale(0.1 -0.1)\">\r\n       <use xlink:href=\"#DejaVuSans-49\"/>\r\n       <use x=\"63.623047\" xlink:href=\"#DejaVuSans-48\"/>\r\n       <use x=\"127.246094\" xlink:href=\"#DejaVuSans-48\"/>\r\n      </g>\r\n     </g>\r\n    </g>\r\n    <g id=\"xtick_6\">\r\n     <g id=\"line2d_6\">\r\n      <g>\r\n       <use style=\"stroke:#000000;stroke-width:0.8;\" x=\"236.849516\" xlink:href=\"#m6d83704fd6\" y=\"224.64\"/>\r\n      </g>\r\n     </g>\r\n     <g id=\"text_6\">\r\n      <!-- 125 -->\r\n      <g transform=\"translate(227.305766 239.238437)scale(0.1 -0.1)\">\r\n       <use xlink:href=\"#DejaVuSans-49\"/>\r\n       <use x=\"63.623047\" xlink:href=\"#DejaVuSans-50\"/>\r\n       <use x=\"127.246094\" xlink:href=\"#DejaVuSans-53\"/>\r\n      </g>\r\n     </g>\r\n    </g>\r\n    <g id=\"xtick_7\">\r\n     <g id=\"line2d_7\">\r\n      <g>\r\n       <use style=\"stroke:#000000;stroke-width:0.8;\" x=\"274.518283\" xlink:href=\"#m6d83704fd6\" y=\"224.64\"/>\r\n      </g>\r\n     </g>\r\n     <g id=\"text_7\">\r\n      <!-- 150 -->\r\n      <g transform=\"translate(264.974533 239.238437)scale(0.1 -0.1)\">\r\n       <use xlink:href=\"#DejaVuSans-49\"/>\r\n       <use x=\"63.623047\" xlink:href=\"#DejaVuSans-53\"/>\r\n       <use x=\"127.246094\" xlink:href=\"#DejaVuSans-48\"/>\r\n      </g>\r\n     </g>\r\n    </g>\r\n    <g id=\"xtick_8\">\r\n     <g id=\"line2d_8\">\r\n      <g>\r\n       <use style=\"stroke:#000000;stroke-width:0.8;\" x=\"312.18705\" xlink:href=\"#m6d83704fd6\" y=\"224.64\"/>\r\n      </g>\r\n     </g>\r\n     <g id=\"text_8\">\r\n      <!-- 175 -->\r\n      <g transform=\"translate(302.6433 239.238437)scale(0.1 -0.1)\">\r\n       <use xlink:href=\"#DejaVuSans-49\"/>\r\n       <use x=\"63.623047\" xlink:href=\"#DejaVuSans-55\"/>\r\n       <use x=\"127.246094\" xlink:href=\"#DejaVuSans-53\"/>\r\n      </g>\r\n     </g>\r\n    </g>\r\n    <g id=\"xtick_9\">\r\n     <g id=\"line2d_9\">\r\n      <g>\r\n       <use style=\"stroke:#000000;stroke-width:0.8;\" x=\"349.855817\" xlink:href=\"#m6d83704fd6\" y=\"224.64\"/>\r\n      </g>\r\n     </g>\r\n     <g id=\"text_9\">\r\n      <!-- 200 -->\r\n      <g transform=\"translate(340.312067 239.238437)scale(0.1 -0.1)\">\r\n       <use xlink:href=\"#DejaVuSans-50\"/>\r\n       <use x=\"63.623047\" xlink:href=\"#DejaVuSans-48\"/>\r\n       <use x=\"127.246094\" xlink:href=\"#DejaVuSans-48\"/>\r\n      </g>\r\n     </g>\r\n    </g>\r\n   </g>\r\n   <g id=\"matplotlib.axis_2\">\r\n    <g id=\"ytick_1\">\r\n     <g id=\"line2d_10\">\r\n      <defs>\r\n       <path d=\"M 0 0 \r\nL -3.5 0 \r\n\" id=\"mc9fb27fdb8\" style=\"stroke:#000000;stroke-width:0.8;\"/>\r\n      </defs>\r\n      <g>\r\n       <use style=\"stroke:#000000;stroke-width:0.8;\" x=\"33.2875\" xlink:href=\"#mc9fb27fdb8\" y=\"214.756364\"/>\r\n      </g>\r\n     </g>\r\n     <g id=\"text_10\">\r\n      <!-- 0 -->\r\n      <g transform=\"translate(19.925 218.555582)scale(0.1 -0.1)\">\r\n       <use xlink:href=\"#DejaVuSans-48\"/>\r\n      </g>\r\n     </g>\r\n    </g>\r\n    <g id=\"ytick_2\">\r\n     <g id=\"line2d_11\">\r\n      <g>\r\n       <use style=\"stroke:#000000;stroke-width:0.8;\" x=\"33.2875\" xlink:href=\"#mc9fb27fdb8\" y=\"190.040407\"/>\r\n      </g>\r\n     </g>\r\n     <g id=\"text_11\">\r\n      <!-- 45 -->\r\n      <defs>\r\n       <path d=\"M 37.796875 64.3125 \r\nL 12.890625 25.390625 \r\nL 37.796875 25.390625 \r\nz\r\nM 35.203125 72.90625 \r\nL 47.609375 72.90625 \r\nL 47.609375 25.390625 \r\nL 58.015625 25.390625 \r\nL 58.015625 17.1875 \r\nL 47.609375 17.1875 \r\nL 47.609375 0 \r\nL 37.796875 0 \r\nL 37.796875 17.1875 \r\nL 4.890625 17.1875 \r\nL 4.890625 26.703125 \r\nz\r\n\" id=\"DejaVuSans-52\"/>\r\n      </defs>\r\n      <g transform=\"translate(13.5625 193.839626)scale(0.1 -0.1)\">\r\n       <use xlink:href=\"#DejaVuSans-52\"/>\r\n       <use x=\"63.623047\" xlink:href=\"#DejaVuSans-53\"/>\r\n      </g>\r\n     </g>\r\n    </g>\r\n    <g id=\"ytick_3\">\r\n     <g id=\"line2d_12\">\r\n      <g>\r\n       <use style=\"stroke:#000000;stroke-width:0.8;\" x=\"33.2875\" xlink:href=\"#mc9fb27fdb8\" y=\"165.324451\"/>\r\n      </g>\r\n     </g>\r\n     <g id=\"text_12\">\r\n      <!-- 90 -->\r\n      <defs>\r\n       <path d=\"M 10.984375 1.515625 \r\nL 10.984375 10.5 \r\nQ 14.703125 8.734375 18.5 7.8125 \r\nQ 22.3125 6.890625 25.984375 6.890625 \r\nQ 35.75 6.890625 40.890625 13.453125 \r\nQ 46.046875 20.015625 46.78125 33.40625 \r\nQ 43.953125 29.203125 39.59375 26.953125 \r\nQ 35.25 24.703125 29.984375 24.703125 \r\nQ 19.046875 24.703125 12.671875 31.3125 \r\nQ 6.296875 37.9375 6.296875 49.421875 \r\nQ 6.296875 60.640625 12.9375 67.421875 \r\nQ 19.578125 74.21875 30.609375 74.21875 \r\nQ 43.265625 74.21875 49.921875 64.515625 \r\nQ 56.59375 54.828125 56.59375 36.375 \r\nQ 56.59375 19.140625 48.40625 8.859375 \r\nQ 40.234375 -1.421875 26.421875 -1.421875 \r\nQ 22.703125 -1.421875 18.890625 -0.6875 \r\nQ 15.09375 0.046875 10.984375 1.515625 \r\nz\r\nM 30.609375 32.421875 \r\nQ 37.25 32.421875 41.125 36.953125 \r\nQ 45.015625 41.5 45.015625 49.421875 \r\nQ 45.015625 57.28125 41.125 61.84375 \r\nQ 37.25 66.40625 30.609375 66.40625 \r\nQ 23.96875 66.40625 20.09375 61.84375 \r\nQ 16.21875 57.28125 16.21875 49.421875 \r\nQ 16.21875 41.5 20.09375 36.953125 \r\nQ 23.96875 32.421875 30.609375 32.421875 \r\nz\r\n\" id=\"DejaVuSans-57\"/>\r\n      </defs>\r\n      <g transform=\"translate(13.5625 169.123669)scale(0.1 -0.1)\">\r\n       <use xlink:href=\"#DejaVuSans-57\"/>\r\n       <use x=\"63.623047\" xlink:href=\"#DejaVuSans-48\"/>\r\n      </g>\r\n     </g>\r\n    </g>\r\n    <g id=\"ytick_4\">\r\n     <g id=\"line2d_13\">\r\n      <g>\r\n       <use style=\"stroke:#000000;stroke-width:0.8;\" x=\"33.2875\" xlink:href=\"#mc9fb27fdb8\" y=\"140.608494\"/>\r\n      </g>\r\n     </g>\r\n     <g id=\"text_13\">\r\n      <!-- 135 -->\r\n      <defs>\r\n       <path d=\"M 40.578125 39.3125 \r\nQ 47.65625 37.796875 51.625 33 \r\nQ 55.609375 28.21875 55.609375 21.1875 \r\nQ 55.609375 10.40625 48.1875 4.484375 \r\nQ 40.765625 -1.421875 27.09375 -1.421875 \r\nQ 22.515625 -1.421875 17.65625 -0.515625 \r\nQ 12.796875 0.390625 7.625 2.203125 \r\nL 7.625 11.71875 \r\nQ 11.71875 9.328125 16.59375 8.109375 \r\nQ 21.484375 6.890625 26.8125 6.890625 \r\nQ 36.078125 6.890625 40.9375 10.546875 \r\nQ 45.796875 14.203125 45.796875 21.1875 \r\nQ 45.796875 27.640625 41.28125 31.265625 \r\nQ 36.765625 34.90625 28.71875 34.90625 \r\nL 20.21875 34.90625 \r\nL 20.21875 43.015625 \r\nL 29.109375 43.015625 \r\nQ 36.375 43.015625 40.234375 45.921875 \r\nQ 44.09375 48.828125 44.09375 54.296875 \r\nQ 44.09375 59.90625 40.109375 62.90625 \r\nQ 36.140625 65.921875 28.71875 65.921875 \r\nQ 24.65625 65.921875 20.015625 65.03125 \r\nQ 15.375 64.15625 9.8125 62.3125 \r\nL 9.8125 71.09375 \r\nQ 15.4375 72.65625 20.34375 73.4375 \r\nQ 25.25 74.21875 29.59375 74.21875 \r\nQ 40.828125 74.21875 47.359375 69.109375 \r\nQ 53.90625 64.015625 53.90625 55.328125 \r\nQ 53.90625 49.265625 50.4375 45.09375 \r\nQ 46.96875 40.921875 40.578125 39.3125 \r\nz\r\n\" id=\"DejaVuSans-51\"/>\r\n      </defs>\r\n      <g transform=\"translate(7.2 144.407713)scale(0.1 -0.1)\">\r\n       <use xlink:href=\"#DejaVuSans-49\"/>\r\n       <use x=\"63.623047\" xlink:href=\"#DejaVuSans-51\"/>\r\n       <use x=\"127.246094\" xlink:href=\"#DejaVuSans-53\"/>\r\n      </g>\r\n     </g>\r\n    </g>\r\n    <g id=\"ytick_5\">\r\n     <g id=\"line2d_14\">\r\n      <g>\r\n       <use style=\"stroke:#000000;stroke-width:0.8;\" x=\"33.2875\" xlink:href=\"#mc9fb27fdb8\" y=\"115.892538\"/>\r\n      </g>\r\n     </g>\r\n     <g id=\"text_14\">\r\n      <!-- 180 -->\r\n      <defs>\r\n       <path d=\"M 31.78125 34.625 \r\nQ 24.75 34.625 20.71875 30.859375 \r\nQ 16.703125 27.09375 16.703125 20.515625 \r\nQ 16.703125 13.921875 20.71875 10.15625 \r\nQ 24.75 6.390625 31.78125 6.390625 \r\nQ 38.8125 6.390625 42.859375 10.171875 \r\nQ 46.921875 13.96875 46.921875 20.515625 \r\nQ 46.921875 27.09375 42.890625 30.859375 \r\nQ 38.875 34.625 31.78125 34.625 \r\nz\r\nM 21.921875 38.8125 \r\nQ 15.578125 40.375 12.03125 44.71875 \r\nQ 8.5 49.078125 8.5 55.328125 \r\nQ 8.5 64.0625 14.71875 69.140625 \r\nQ 20.953125 74.21875 31.78125 74.21875 \r\nQ 42.671875 74.21875 48.875 69.140625 \r\nQ 55.078125 64.0625 55.078125 55.328125 \r\nQ 55.078125 49.078125 51.53125 44.71875 \r\nQ 48 40.375 41.703125 38.8125 \r\nQ 48.828125 37.15625 52.796875 32.3125 \r\nQ 56.78125 27.484375 56.78125 20.515625 \r\nQ 56.78125 9.90625 50.3125 4.234375 \r\nQ 43.84375 -1.421875 31.78125 -1.421875 \r\nQ 19.734375 -1.421875 13.25 4.234375 \r\nQ 6.78125 9.90625 6.78125 20.515625 \r\nQ 6.78125 27.484375 10.78125 32.3125 \r\nQ 14.796875 37.15625 21.921875 38.8125 \r\nz\r\nM 18.3125 54.390625 \r\nQ 18.3125 48.734375 21.84375 45.5625 \r\nQ 25.390625 42.390625 31.78125 42.390625 \r\nQ 38.140625 42.390625 41.71875 45.5625 \r\nQ 45.3125 48.734375 45.3125 54.390625 \r\nQ 45.3125 60.0625 41.71875 63.234375 \r\nQ 38.140625 66.40625 31.78125 66.40625 \r\nQ 25.390625 66.40625 21.84375 63.234375 \r\nQ 18.3125 60.0625 18.3125 54.390625 \r\nz\r\n\" id=\"DejaVuSans-56\"/>\r\n      </defs>\r\n      <g transform=\"translate(7.2 119.691757)scale(0.1 -0.1)\">\r\n       <use xlink:href=\"#DejaVuSans-49\"/>\r\n       <use x=\"63.623047\" xlink:href=\"#DejaVuSans-56\"/>\r\n       <use x=\"127.246094\" xlink:href=\"#DejaVuSans-48\"/>\r\n      </g>\r\n     </g>\r\n    </g>\r\n    <g id=\"ytick_6\">\r\n     <g id=\"line2d_15\">\r\n      <g>\r\n       <use style=\"stroke:#000000;stroke-width:0.8;\" x=\"33.2875\" xlink:href=\"#mc9fb27fdb8\" y=\"91.176581\"/>\r\n      </g>\r\n     </g>\r\n     <g id=\"text_15\">\r\n      <!-- 225 -->\r\n      <g transform=\"translate(7.2 94.9758)scale(0.1 -0.1)\">\r\n       <use xlink:href=\"#DejaVuSans-50\"/>\r\n       <use x=\"63.623047\" xlink:href=\"#DejaVuSans-50\"/>\r\n       <use x=\"127.246094\" xlink:href=\"#DejaVuSans-53\"/>\r\n      </g>\r\n     </g>\r\n    </g>\r\n    <g id=\"ytick_7\">\r\n     <g id=\"line2d_16\">\r\n      <g>\r\n       <use style=\"stroke:#000000;stroke-width:0.8;\" x=\"33.2875\" xlink:href=\"#mc9fb27fdb8\" y=\"66.460625\"/>\r\n      </g>\r\n     </g>\r\n     <g id=\"text_16\">\r\n      <!-- 270 -->\r\n      <g transform=\"translate(7.2 70.259844)scale(0.1 -0.1)\">\r\n       <use xlink:href=\"#DejaVuSans-50\"/>\r\n       <use x=\"63.623047\" xlink:href=\"#DejaVuSans-55\"/>\r\n       <use x=\"127.246094\" xlink:href=\"#DejaVuSans-48\"/>\r\n      </g>\r\n     </g>\r\n    </g>\r\n    <g id=\"ytick_8\">\r\n     <g id=\"line2d_17\">\r\n      <g>\r\n       <use style=\"stroke:#000000;stroke-width:0.8;\" x=\"33.2875\" xlink:href=\"#mc9fb27fdb8\" y=\"41.744668\"/>\r\n      </g>\r\n     </g>\r\n     <g id=\"text_17\">\r\n      <!-- 315 -->\r\n      <g transform=\"translate(7.2 45.543887)scale(0.1 -0.1)\">\r\n       <use xlink:href=\"#DejaVuSans-51\"/>\r\n       <use x=\"63.623047\" xlink:href=\"#DejaVuSans-49\"/>\r\n       <use x=\"127.246094\" xlink:href=\"#DejaVuSans-53\"/>\r\n      </g>\r\n     </g>\r\n    </g>\r\n    <g id=\"ytick_9\">\r\n     <g id=\"line2d_18\">\r\n      <g>\r\n       <use style=\"stroke:#000000;stroke-width:0.8;\" x=\"33.2875\" xlink:href=\"#mc9fb27fdb8\" y=\"17.028712\"/>\r\n      </g>\r\n     </g>\r\n     <g id=\"text_18\">\r\n      <!-- 360 -->\r\n      <defs>\r\n       <path d=\"M 33.015625 40.375 \r\nQ 26.375 40.375 22.484375 35.828125 \r\nQ 18.609375 31.296875 18.609375 23.390625 \r\nQ 18.609375 15.53125 22.484375 10.953125 \r\nQ 26.375 6.390625 33.015625 6.390625 \r\nQ 39.65625 6.390625 43.53125 10.953125 \r\nQ 47.40625 15.53125 47.40625 23.390625 \r\nQ 47.40625 31.296875 43.53125 35.828125 \r\nQ 39.65625 40.375 33.015625 40.375 \r\nz\r\nM 52.59375 71.296875 \r\nL 52.59375 62.3125 \r\nQ 48.875 64.0625 45.09375 64.984375 \r\nQ 41.3125 65.921875 37.59375 65.921875 \r\nQ 27.828125 65.921875 22.671875 59.328125 \r\nQ 17.53125 52.734375 16.796875 39.40625 \r\nQ 19.671875 43.65625 24.015625 45.921875 \r\nQ 28.375 48.1875 33.59375 48.1875 \r\nQ 44.578125 48.1875 50.953125 41.515625 \r\nQ 57.328125 34.859375 57.328125 23.390625 \r\nQ 57.328125 12.15625 50.6875 5.359375 \r\nQ 44.046875 -1.421875 33.015625 -1.421875 \r\nQ 20.359375 -1.421875 13.671875 8.265625 \r\nQ 6.984375 17.96875 6.984375 36.375 \r\nQ 6.984375 53.65625 15.1875 63.9375 \r\nQ 23.390625 74.21875 37.203125 74.21875 \r\nQ 40.921875 74.21875 44.703125 73.484375 \r\nQ 48.484375 72.75 52.59375 71.296875 \r\nz\r\n\" id=\"DejaVuSans-54\"/>\r\n      </defs>\r\n      <g transform=\"translate(7.2 20.827931)scale(0.1 -0.1)\">\r\n       <use xlink:href=\"#DejaVuSans-51\"/>\r\n       <use x=\"63.623047\" xlink:href=\"#DejaVuSans-54\"/>\r\n       <use x=\"127.246094\" xlink:href=\"#DejaVuSans-48\"/>\r\n      </g>\r\n     </g>\r\n    </g>\r\n   </g>\r\n   <g id=\"line2d_19\">\r\n    <defs>\r\n     <path d=\"M 0 1.5 \r\nC 0.397805 1.5 0.77937 1.341951 1.06066 1.06066 \r\nC 1.341951 0.77937 1.5 0.397805 1.5 0 \r\nC 1.5 -0.397805 1.341951 -0.77937 1.06066 -1.06066 \r\nC 0.77937 -1.341951 0.397805 -1.5 0 -1.5 \r\nC -0.397805 -1.5 -0.77937 -1.341951 -1.06066 -1.06066 \r\nC -1.341951 -0.77937 -1.5 -0.397805 -1.5 0 \r\nC -1.5 0.397805 -1.341951 0.77937 -1.06066 1.06066 \r\nC -0.77937 1.341951 -0.397805 1.5 0 1.5 \r\nz\r\n\" id=\"m0a57acf5a2\" style=\"stroke:#1f77b4;\"/>\r\n    </defs>\r\n    <g clip-path=\"url(#pdc780df172)\">\r\n     <use style=\"fill:#1f77b4;stroke:#1f77b4;\" x=\"48.505682\" xlink:href=\"#m0a57acf5a2\" y=\"214.756364\"/>\r\n     <use style=\"fill:#1f77b4;stroke:#1f77b4;\" x=\"50.012432\" xlink:href=\"#m0a57acf5a2\" y=\"189.930558\"/>\r\n     <use style=\"fill:#1f77b4;stroke:#1f77b4;\" x=\"51.519183\" xlink:href=\"#m0a57acf5a2\" y=\"165.159678\"/>\r\n     <use style=\"fill:#1f77b4;stroke:#1f77b4;\" x=\"53.025934\" xlink:href=\"#m0a57acf5a2\" y=\"140.114175\"/>\r\n     <use style=\"fill:#1f77b4;stroke:#1f77b4;\" x=\"54.532685\" xlink:href=\"#m0a57acf5a2\" y=\"115.727765\"/>\r\n     <use style=\"fill:#1f77b4;stroke:#1f77b4;\" x=\"56.039435\" xlink:href=\"#m0a57acf5a2\" y=\"90.847035\"/>\r\n     <use style=\"fill:#1f77b4;stroke:#1f77b4;\" x=\"57.546186\" xlink:href=\"#m0a57acf5a2\" y=\"66.405701\"/>\r\n     <use style=\"fill:#1f77b4;stroke:#1f77b4;\" x=\"59.052937\" xlink:href=\"#m0a57acf5a2\" y=\"41.744668\"/>\r\n     <use style=\"fill:#1f77b4;stroke:#1f77b4;\" x=\"60.559687\" xlink:href=\"#m0a57acf5a2\" y=\"189.985483\"/>\r\n     <use style=\"fill:#1f77b4;stroke:#1f77b4;\" x=\"62.066438\" xlink:href=\"#m0a57acf5a2\" y=\"164.93998\"/>\r\n     <use style=\"fill:#1f77b4;stroke:#1f77b4;\" x=\"63.573189\" xlink:href=\"#m0a57acf5a2\" y=\"140.498646\"/>\r\n     <use style=\"fill:#1f77b4;stroke:#1f77b4;\" x=\"65.079939\" xlink:href=\"#m0a57acf5a2\" y=\"115.837613\"/>\r\n     <use style=\"fill:#1f77b4;stroke:#1f77b4;\" x=\"66.58669\" xlink:href=\"#m0a57acf5a2\" y=\"90.792111\"/>\r\n     <use style=\"fill:#1f77b4;stroke:#1f77b4;\" x=\"68.093441\" xlink:href=\"#m0a57acf5a2\" y=\"66.625398\"/>\r\n     <use style=\"fill:#1f77b4;stroke:#1f77b4;\" x=\"69.600191\" xlink:href=\"#m0a57acf5a2\" y=\"41.579895\"/>\r\n     <use style=\"fill:#1f77b4;stroke:#1f77b4;\" x=\"71.106942\" xlink:href=\"#m0a57acf5a2\" y=\"214.591591\"/>\r\n     <use style=\"fill:#1f77b4;stroke:#1f77b4;\" x=\"72.613693\" xlink:href=\"#m0a57acf5a2\" y=\"189.765785\"/>\r\n     <use style=\"fill:#1f77b4;stroke:#1f77b4;\" x=\"74.120443\" xlink:href=\"#m0a57acf5a2\" y=\"165.049829\"/>\r\n     <use style=\"fill:#1f77b4;stroke:#1f77b4;\" x=\"75.627194\" xlink:href=\"#m0a57acf5a2\" y=\"140.224024\"/>\r\n     <use style=\"fill:#1f77b4;stroke:#1f77b4;\" x=\"77.133945\" xlink:href=\"#m0a57acf5a2\" y=\"115.782689\"/>\r\n     <use style=\"fill:#1f77b4;stroke:#1f77b4;\" x=\"78.640695\" xlink:href=\"#m0a57acf5a2\" y=\"91.176581\"/>\r\n     <use style=\"fill:#1f77b4;stroke:#1f77b4;\" x=\"80.147446\" xlink:href=\"#m0a57acf5a2\" y=\"65.966306\"/>\r\n     <use style=\"fill:#1f77b4;stroke:#1f77b4;\" x=\"81.654197\" xlink:href=\"#m0a57acf5a2\" y=\"41.63482\"/>\r\n     <use style=\"fill:#1f77b4;stroke:#1f77b4;\" x=\"83.160947\" xlink:href=\"#m0a57acf5a2\" y=\"214.371893\"/>\r\n     <use style=\"fill:#1f77b4;stroke:#1f77b4;\" x=\"84.667698\" xlink:href=\"#m0a57acf5a2\" y=\"189.655937\"/>\r\n     <use style=\"fill:#1f77b4;stroke:#1f77b4;\" x=\"86.174449\" xlink:href=\"#m0a57acf5a2\" y=\"165.434299\"/>\r\n     <use style=\"fill:#1f77b4;stroke:#1f77b4;\" x=\"87.681199\" xlink:href=\"#m0a57acf5a2\" y=\"91.066733\"/>\r\n     <use style=\"fill:#1f77b4;stroke:#1f77b4;\" x=\"89.18795\" xlink:href=\"#m0a57acf5a2\" y=\"66.515549\"/>\r\n     <use style=\"fill:#1f77b4;stroke:#1f77b4;\" x=\"90.694701\" xlink:href=\"#m0a57acf5a2\" y=\"214.536666\"/>\r\n     <use style=\"fill:#1f77b4;stroke:#1f77b4;\" x=\"92.201451\" xlink:href=\"#m0a57acf5a2\" y=\"165.104753\"/>\r\n     <use style=\"fill:#1f77b4;stroke:#1f77b4;\" x=\"93.708202\" xlink:href=\"#m0a57acf5a2\" y=\"140.718343\"/>\r\n     <use style=\"fill:#1f77b4;stroke:#1f77b4;\" x=\"95.214953\" xlink:href=\"#m0a57acf5a2\" y=\"115.67284\"/>\r\n     <use style=\"fill:#1f77b4;stroke:#1f77b4;\" x=\"96.721703\" xlink:href=\"#m0a57acf5a2\" y=\"214.646515\"/>\r\n     <use style=\"fill:#1f77b4;stroke:#1f77b4;\" x=\"98.228454\" xlink:href=\"#m0a57acf5a2\" y=\"189.710861\"/>\r\n     <use style=\"fill:#1f77b4;stroke:#1f77b4;\" x=\"99.735205\" xlink:href=\"#m0a57acf5a2\" y=\"140.608494\"/>\r\n     <use style=\"fill:#1f77b4;stroke:#1f77b4;\" x=\"101.241955\" xlink:href=\"#m0a57acf5a2\" y=\"116.112235\"/>\r\n     <use style=\"fill:#1f77b4;stroke:#1f77b4;\" x=\"102.748706\" xlink:href=\"#m0a57acf5a2\" y=\"90.956884\"/>\r\n     <use style=\"fill:#1f77b4;stroke:#1f77b4;\" x=\"104.255457\" xlink:href=\"#m0a57acf5a2\" y=\"66.735247\"/>\r\n     <use style=\"fill:#1f77b4;stroke:#1f77b4;\" x=\"105.762207\" xlink:href=\"#m0a57acf5a2\" y=\"116.331933\"/>\r\n     <use style=\"fill:#1f77b4;stroke:#1f77b4;\" x=\"107.268958\" xlink:href=\"#m0a57acf5a2\" y=\"91.451203\"/>\r\n     <use style=\"fill:#1f77b4;stroke:#1f77b4;\" x=\"108.775709\" xlink:href=\"#m0a57acf5a2\" y=\"165.379375\"/>\r\n     <use style=\"fill:#1f77b4;stroke:#1f77b4;\" x=\"110.282459\" xlink:href=\"#m0a57acf5a2\" y=\"140.93804\"/>\r\n     <use style=\"fill:#1f77b4;stroke:#1f77b4;\" x=\"111.78921\" xlink:href=\"#m0a57acf5a2\" y=\"66.790171\"/>\r\n     <use style=\"fill:#1f77b4;stroke:#1f77b4;\" x=\"113.295961\" xlink:href=\"#m0a57acf5a2\" y=\"17.083636\"/>\r\n     <use style=\"fill:#1f77b4;stroke:#1f77b4;\" x=\"114.802712\" xlink:href=\"#m0a57acf5a2\" y=\"165.269526\"/>\r\n     <use style=\"fill:#1f77b4;stroke:#1f77b4;\" x=\"116.309462\" xlink:href=\"#m0a57acf5a2\" y=\"140.55357\"/>\r\n     <use style=\"fill:#1f77b4;stroke:#1f77b4;\" x=\"117.816213\" xlink:href=\"#m0a57acf5a2\" y=\"66.350776\"/>\r\n     <use style=\"fill:#1f77b4;stroke:#1f77b4;\" x=\"119.322964\" xlink:href=\"#m0a57acf5a2\" y=\"41.854517\"/>\r\n     <use style=\"fill:#1f77b4;stroke:#1f77b4;\" x=\"120.829714\" xlink:href=\"#m0a57acf5a2\" y=\"42.403761\"/>\r\n     <use style=\"fill:#1f77b4;stroke:#1f77b4;\" x=\"122.336465\" xlink:href=\"#m0a57acf5a2\" y=\"189.601012\"/>\r\n     <use style=\"fill:#1f77b4;stroke:#1f77b4;\" x=\"123.843216\" xlink:href=\"#m0a57acf5a2\" y=\"164.885056\"/>\r\n     <use style=\"fill:#1f77b4;stroke:#1f77b4;\" x=\"125.349966\" xlink:href=\"#m0a57acf5a2\" y=\"140.663419\"/>\r\n     <use style=\"fill:#1f77b4;stroke:#1f77b4;\" x=\"126.856717\" xlink:href=\"#m0a57acf5a2\" y=\"90.682262\"/>\r\n     <use style=\"fill:#1f77b4;stroke:#1f77b4;\" x=\"128.363468\" xlink:href=\"#m0a57acf5a2\" y=\"66.186003\"/>\r\n     <use style=\"fill:#1f77b4;stroke:#1f77b4;\" x=\"129.870218\" xlink:href=\"#m0a57acf5a2\" y=\"41.250349\"/>\r\n     <use style=\"fill:#1f77b4;stroke:#1f77b4;\" x=\"131.376969\" xlink:href=\"#m0a57acf5a2\" y=\"189.82071\"/>\r\n     <use style=\"fill:#1f77b4;stroke:#1f77b4;\" x=\"132.88372\" xlink:href=\"#m0a57acf5a2\" y=\"140.773267\"/>\r\n     <use style=\"fill:#1f77b4;stroke:#1f77b4;\" x=\"134.39047\" xlink:href=\"#m0a57acf5a2\" y=\"115.892538\"/>\r\n     <use style=\"fill:#1f77b4;stroke:#1f77b4;\" x=\"135.897221\" xlink:href=\"#m0a57acf5a2\" y=\"91.231506\"/>\r\n     <use style=\"fill:#1f77b4;stroke:#1f77b4;\" x=\"137.403972\" xlink:href=\"#m0a57acf5a2\" y=\"66.570474\"/>\r\n     <use style=\"fill:#1f77b4;stroke:#1f77b4;\" x=\"138.910722\" xlink:href=\"#m0a57acf5a2\" y=\"42.074215\"/>\r\n     <use style=\"fill:#1f77b4;stroke:#1f77b4;\" x=\"140.417473\" xlink:href=\"#m0a57acf5a2\" y=\"214.701439\"/>\r\n     <use style=\"fill:#1f77b4;stroke:#1f77b4;\" x=\"141.924224\" xlink:href=\"#m0a57acf5a2\" y=\"190.424878\"/>\r\n     <use style=\"fill:#1f77b4;stroke:#1f77b4;\" x=\"143.430974\" xlink:href=\"#m0a57acf5a2\" y=\"91.011808\"/>\r\n     <use style=\"fill:#1f77b4;stroke:#1f77b4;\" x=\"144.937725\" xlink:href=\"#m0a57acf5a2\" y=\"41.360198\"/>\r\n     <use style=\"fill:#1f77b4;stroke:#1f77b4;\" x=\"146.444476\" xlink:href=\"#m0a57acf5a2\" y=\"214.481742\"/>\r\n     <use style=\"fill:#1f77b4;stroke:#1f77b4;\" x=\"147.951226\" xlink:href=\"#m0a57acf5a2\" y=\"190.150256\"/>\r\n     <use style=\"fill:#1f77b4;stroke:#1f77b4;\" x=\"149.457977\" xlink:href=\"#m0a57acf5a2\" y=\"165.653997\"/>\r\n     <use style=\"fill:#1f77b4;stroke:#1f77b4;\" x=\"150.964728\" xlink:href=\"#m0a57acf5a2\" y=\"90.627338\"/>\r\n     <use style=\"fill:#1f77b4;stroke:#1f77b4;\" x=\"152.471478\" xlink:href=\"#m0a57acf5a2\" y=\"41.689744\"/>\r\n     <use style=\"fill:#1f77b4;stroke:#1f77b4;\" x=\"153.978229\" xlink:href=\"#m0a57acf5a2\" y=\"214.316969\"/>\r\n     <use style=\"fill:#1f77b4;stroke:#1f77b4;\" x=\"155.48498\" xlink:href=\"#m0a57acf5a2\" y=\"165.763846\"/>\r\n     <use style=\"fill:#1f77b4;stroke:#1f77b4;\" x=\"156.99173\" xlink:href=\"#m0a57acf5a2\" y=\"115.453143\"/>\r\n     <use style=\"fill:#1f77b4;stroke:#1f77b4;\" x=\"158.498481\" xlink:href=\"#m0a57acf5a2\" y=\"91.28643\"/>\r\n     <use style=\"fill:#1f77b4;stroke:#1f77b4;\" x=\"160.005232\" xlink:href=\"#m0a57acf5a2\" y=\"41.305274\"/>\r\n     <use style=\"fill:#1f77b4;stroke:#1f77b4;\" x=\"161.511982\" xlink:href=\"#m0a57acf5a2\" y=\"190.369953\"/>\r\n     <use style=\"fill:#1f77b4;stroke:#1f77b4;\" x=\"163.018733\" xlink:href=\"#m0a57acf5a2\" y=\"115.617916\"/>\r\n     <use style=\"fill:#1f77b4;stroke:#1f77b4;\" x=\"164.525484\" xlink:href=\"#m0a57acf5a2\" y=\"41.799593\"/>\r\n     <use style=\"fill:#1f77b4;stroke:#1f77b4;\" x=\"166.032234\" xlink:href=\"#m0a57acf5a2\" y=\"190.095332\"/>\r\n     <use style=\"fill:#1f77b4;stroke:#1f77b4;\" x=\"167.538985\" xlink:href=\"#m0a57acf5a2\" y=\"116.002387\"/>\r\n     <use style=\"fill:#1f77b4;stroke:#1f77b4;\" x=\"169.045736\" xlink:href=\"#m0a57acf5a2\" y=\"41.470047\"/>\r\n     <use style=\"fill:#1f77b4;stroke:#1f77b4;\" x=\"170.552486\" xlink:href=\"#m0a57acf5a2\" y=\"140.278948\"/>\r\n     <use style=\"fill:#1f77b4;stroke:#1f77b4;\" x=\"172.059237\" xlink:href=\"#m0a57acf5a2\" y=\"214.426818\"/>\r\n     <use style=\"fill:#1f77b4;stroke:#1f77b4;\" x=\"173.565988\" xlink:href=\"#m0a57acf5a2\" y=\"140.388797\"/>\r\n     <use style=\"fill:#1f77b4;stroke:#1f77b4;\" x=\"175.072739\" xlink:href=\"#m0a57acf5a2\" y=\"115.947462\"/>\r\n     <use style=\"fill:#1f77b4;stroke:#1f77b4;\" x=\"176.579489\" xlink:href=\"#m0a57acf5a2\" y=\"91.121657\"/>\r\n     <use style=\"fill:#1f77b4;stroke:#1f77b4;\" x=\"178.08624\" xlink:href=\"#m0a57acf5a2\" y=\"66.460625\"/>\r\n     <use style=\"fill:#1f77b4;stroke:#1f77b4;\" x=\"179.592991\" xlink:href=\"#m0a57acf5a2\" y=\"189.875634\"/>\r\n     <use style=\"fill:#1f77b4;stroke:#1f77b4;\" x=\"181.099741\" xlink:href=\"#m0a57acf5a2\" y=\"66.240928\"/>\r\n     <use style=\"fill:#1f77b4;stroke:#1f77b4;\" x=\"182.606492\" xlink:href=\"#m0a57acf5a2\" y=\"190.040407\"/>\r\n     <use style=\"fill:#1f77b4;stroke:#1f77b4;\" x=\"184.113243\" xlink:href=\"#m0a57acf5a2\" y=\"164.994905\"/>\r\n     <use style=\"fill:#1f77b4;stroke:#1f77b4;\" x=\"185.619993\" xlink:href=\"#m0a57acf5a2\" y=\"189.491164\"/>\r\n     <use style=\"fill:#1f77b4;stroke:#1f77b4;\" x=\"187.126744\" xlink:href=\"#m0a57acf5a2\" y=\"214.262045\"/>\r\n     <use style=\"fill:#1f77b4;stroke:#1f77b4;\" x=\"188.633495\" xlink:href=\"#m0a57acf5a2\" y=\"190.260105\"/>\r\n     <use style=\"fill:#1f77b4;stroke:#1f77b4;\" x=\"190.140245\" xlink:href=\"#m0a57acf5a2\" y=\"140.443721\"/>\r\n     <use style=\"fill:#1f77b4;stroke:#1f77b4;\" x=\"191.646996\" xlink:href=\"#m0a57acf5a2\" y=\"165.214602\"/>\r\n     <use style=\"fill:#1f77b4;stroke:#1f77b4;\" x=\"193.153747\" xlink:href=\"#m0a57acf5a2\" y=\"141.047889\"/>\r\n     <use style=\"fill:#1f77b4;stroke:#1f77b4;\" x=\"194.660497\" xlink:href=\"#m0a57acf5a2\" y=\"190.315029\"/>\r\n     <use style=\"fill:#1f77b4;stroke:#1f77b4;\" x=\"196.167248\" xlink:href=\"#m0a57acf5a2\" y=\"140.883116\"/>\r\n     <use style=\"fill:#1f77b4;stroke:#1f77b4;\" x=\"197.673999\" xlink:href=\"#m0a57acf5a2\" y=\"90.572414\"/>\r\n     <use style=\"fill:#1f77b4;stroke:#1f77b4;\" x=\"199.180749\" xlink:href=\"#m0a57acf5a2\" y=\"66.680322\"/>\r\n     <use style=\"fill:#1f77b4;stroke:#1f77b4;\" x=\"200.6875\" xlink:href=\"#m0a57acf5a2\" y=\"66.295852\"/>\r\n     <use style=\"fill:#1f77b4;stroke:#1f77b4;\" x=\"202.194251\" xlink:href=\"#m0a57acf5a2\" y=\"41.524971\"/>\r\n     <use style=\"fill:#1f77b4;stroke:#1f77b4;\" x=\"203.701001\" xlink:href=\"#m0a57acf5a2\" y=\"213.932498\"/>\r\n     <use style=\"fill:#1f77b4;stroke:#1f77b4;\" x=\"205.207752\" xlink:href=\"#m0a57acf5a2\" y=\"140.169099\"/>\r\n     <use style=\"fill:#1f77b4;stroke:#1f77b4;\" x=\"206.714503\" xlink:href=\"#m0a57acf5a2\" y=\"116.222084\"/>\r\n     <use style=\"fill:#1f77b4;stroke:#1f77b4;\" x=\"208.221253\" xlink:href=\"#m0a57acf5a2\" y=\"41.909442\"/>\r\n     <use style=\"fill:#1f77b4;stroke:#1f77b4;\" x=\"209.728004\" xlink:href=\"#m0a57acf5a2\" y=\"165.324451\"/>\r\n     <use style=\"fill:#1f77b4;stroke:#1f77b4;\" x=\"211.234755\" xlink:href=\"#m0a57acf5a2\" y=\"90.90196\"/>\r\n     <use style=\"fill:#1f77b4;stroke:#1f77b4;\" x=\"212.741505\" xlink:href=\"#m0a57acf5a2\" y=\"42.01929\"/>\r\n     <use style=\"fill:#1f77b4;stroke:#1f77b4;\" x=\"214.248256\" xlink:href=\"#m0a57acf5a2\" y=\"115.398219\"/>\r\n     <use style=\"fill:#1f77b4;stroke:#1f77b4;\" x=\"215.755007\" xlink:href=\"#m0a57acf5a2\" y=\"140.333873\"/>\r\n     <use style=\"fill:#1f77b4;stroke:#1f77b4;\" x=\"217.261757\" xlink:href=\"#m0a57acf5a2\" y=\"188.612374\"/>\r\n     <use style=\"fill:#1f77b4;stroke:#1f77b4;\" x=\"218.768508\" xlink:href=\"#m0a57acf5a2\" y=\"90.352716\"/>\r\n     <use style=\"fill:#1f77b4;stroke:#1f77b4;\" x=\"220.275259\" xlink:href=\"#m0a57acf5a2\" y=\"165.489224\"/>\r\n     <use style=\"fill:#1f77b4;stroke:#1f77b4;\" x=\"221.782009\" xlink:href=\"#m0a57acf5a2\" y=\"139.67478\"/>\r\n     <use style=\"fill:#1f77b4;stroke:#1f77b4;\" x=\"223.28876\" xlink:href=\"#m0a57acf5a2\" y=\"66.02123\"/>\r\n     <use style=\"fill:#1f77b4;stroke:#1f77b4;\" x=\"224.795511\" xlink:href=\"#m0a57acf5a2\" y=\"90.737187\"/>\r\n     <use style=\"fill:#1f77b4;stroke:#1f77b4;\" x=\"226.302261\" xlink:href=\"#m0a57acf5a2\" y=\"66.076154\"/>\r\n     <use style=\"fill:#1f77b4;stroke:#1f77b4;\" x=\"227.809012\" xlink:href=\"#m0a57acf5a2\" y=\"115.068673\"/>\r\n     <use style=\"fill:#1f77b4;stroke:#1f77b4;\" x=\"229.315763\" xlink:href=\"#m0a57acf5a2\" y=\"66.131079\"/>\r\n     <use style=\"fill:#1f77b4;stroke:#1f77b4;\" x=\"230.822514\" xlink:href=\"#m0a57acf5a2\" y=\"17.193485\"/>\r\n     <use style=\"fill:#1f77b4;stroke:#1f77b4;\" x=\"232.329264\" xlink:href=\"#m0a57acf5a2\" y=\"115.562992\"/>\r\n     <use style=\"fill:#1f77b4;stroke:#1f77b4;\" x=\"233.836015\" xlink:href=\"#m0a57acf5a2\" y=\"189.546088\"/>\r\n     <use style=\"fill:#1f77b4;stroke:#1f77b4;\" x=\"235.342766\" xlink:href=\"#m0a57acf5a2\" y=\"189.326391\"/>\r\n     <use style=\"fill:#1f77b4;stroke:#1f77b4;\" x=\"236.849516\" xlink:href=\"#m0a57acf5a2\" y=\"17.248409\"/>\r\n     <use style=\"fill:#1f77b4;stroke:#1f77b4;\" x=\"238.356267\" xlink:href=\"#m0a57acf5a2\" y=\"67.394339\"/>\r\n     <use style=\"fill:#1f77b4;stroke:#1f77b4;\" x=\"239.863018\" xlink:href=\"#m0a57acf5a2\" y=\"91.396279\"/>\r\n     <use style=\"fill:#1f77b4;stroke:#1f77b4;\" x=\"241.369768\" xlink:href=\"#m0a57acf5a2\" y=\"214.20712\"/>\r\n     <use style=\"fill:#1f77b4;stroke:#1f77b4;\" x=\"242.876519\" xlink:href=\"#m0a57acf5a2\" y=\"115.508067\"/>\r\n     <use style=\"fill:#1f77b4;stroke:#1f77b4;\" x=\"244.38327\" xlink:href=\"#m0a57acf5a2\" y=\"41.415122\"/>\r\n     <use style=\"fill:#1f77b4;stroke:#1f77b4;\" x=\"245.89002\" xlink:href=\"#m0a57acf5a2\" y=\"91.341354\"/>\r\n     <use style=\"fill:#1f77b4;stroke:#1f77b4;\" x=\"247.396771\" xlink:href=\"#m0a57acf5a2\" y=\"92.055371\"/>\r\n     <use style=\"fill:#1f77b4;stroke:#1f77b4;\" x=\"248.903522\" xlink:href=\"#m0a57acf5a2\" y=\"164.775207\"/>\r\n     <use style=\"fill:#1f77b4;stroke:#1f77b4;\" x=\"250.410272\" xlink:href=\"#m0a57acf5a2\" y=\"91.506127\"/>\r\n     <use style=\"fill:#1f77b4;stroke:#1f77b4;\" x=\"251.917023\" xlink:href=\"#m0a57acf5a2\" y=\"65.63676\"/>\r\n     <use style=\"fill:#1f77b4;stroke:#1f77b4;\" x=\"253.423774\" xlink:href=\"#m0a57acf5a2\" y=\"116.277008\"/>\r\n     <use style=\"fill:#1f77b4;stroke:#1f77b4;\" x=\"254.930524\" xlink:href=\"#m0a57acf5a2\" y=\"67.009868\"/>\r\n     <use style=\"fill:#1f77b4;stroke:#1f77b4;\" x=\"256.437275\" xlink:href=\"#m0a57acf5a2\" y=\"17.138561\"/>\r\n     <use style=\"fill:#1f77b4;stroke:#1f77b4;\" x=\"257.944026\" xlink:href=\"#m0a57acf5a2\" y=\"165.544148\"/>\r\n     <use style=\"fill:#1f77b4;stroke:#1f77b4;\" x=\"259.450776\" xlink:href=\"#m0a57acf5a2\" y=\"90.133019\"/>\r\n     <use style=\"fill:#1f77b4;stroke:#1f77b4;\" x=\"260.957527\" xlink:href=\"#m0a57acf5a2\" y=\"41.964366\"/>\r\n     <use style=\"fill:#1f77b4;stroke:#1f77b4;\" x=\"262.464278\" xlink:href=\"#m0a57acf5a2\" y=\"140.992965\"/>\r\n     <use style=\"fill:#1f77b4;stroke:#1f77b4;\" x=\"263.971028\" xlink:href=\"#m0a57acf5a2\" y=\"213.657877\"/>\r\n     <use style=\"fill:#1f77b4;stroke:#1f77b4;\" x=\"265.477779\" xlink:href=\"#m0a57acf5a2\" y=\"165.873694\"/>\r\n     <use style=\"fill:#1f77b4;stroke:#1f77b4;\" x=\"266.98453\" xlink:href=\"#m0a57acf5a2\" y=\"40.920803\"/>\r\n     <use style=\"fill:#1f77b4;stroke:#1f77b4;\" x=\"268.49128\" xlink:href=\"#m0a57acf5a2\" y=\"116.057311\"/>\r\n     <use style=\"fill:#1f77b4;stroke:#1f77b4;\" x=\"269.998031\" xlink:href=\"#m0a57acf5a2\" y=\"91.725825\"/>\r\n     <use style=\"fill:#1f77b4;stroke:#1f77b4;\" x=\"271.504782\" xlink:href=\"#m0a57acf5a2\" y=\"65.911381\"/>\r\n     <use style=\"fill:#1f77b4;stroke:#1f77b4;\" x=\"273.011532\" xlink:href=\"#m0a57acf5a2\" y=\"214.097271\"/>\r\n     <use style=\"fill:#1f77b4;stroke:#1f77b4;\" x=\"274.518283\" xlink:href=\"#m0a57acf5a2\" y=\"140.059251\"/>\r\n     <use style=\"fill:#1f77b4;stroke:#1f77b4;\" x=\"276.025034\" xlink:href=\"#m0a57acf5a2\" y=\"42.293912\"/>\r\n     <use style=\"fill:#1f77b4;stroke:#1f77b4;\" x=\"277.531784\" xlink:href=\"#m0a57acf5a2\" y=\"67.339414\"/>\r\n     <use style=\"fill:#1f77b4;stroke:#1f77b4;\" x=\"279.038535\" xlink:href=\"#m0a57acf5a2\" y=\"164.500586\"/>\r\n     <use style=\"fill:#1f77b4;stroke:#1f77b4;\" x=\"280.545286\" xlink:href=\"#m0a57acf5a2\" y=\"140.828192\"/>\r\n     <use style=\"fill:#1f77b4;stroke:#1f77b4;\" x=\"282.052036\" xlink:href=\"#m0a57acf5a2\" y=\"90.462565\"/>\r\n     <use style=\"fill:#1f77b4;stroke:#1f77b4;\" x=\"283.558787\" xlink:href=\"#m0a57acf5a2\" y=\"90.517489\"/>\r\n     <use style=\"fill:#1f77b4;stroke:#1f77b4;\" x=\"285.065538\" xlink:href=\"#m0a57acf5a2\" y=\"36.526855\"/>\r\n     <use style=\"fill:#1f77b4;stroke:#1f77b4;\" x=\"286.572288\" xlink:href=\"#m0a57acf5a2\" y=\"116.16716\"/>\r\n     <use style=\"fill:#1f77b4;stroke:#1f77b4;\" x=\"288.079039\" xlink:href=\"#m0a57acf5a2\" y=\"65.581835\"/>\r\n     <use style=\"fill:#1f77b4;stroke:#1f77b4;\" x=\"289.58579\" xlink:href=\"#m0a57acf5a2\" y=\"17.962426\"/>\r\n     <use style=\"fill:#1f77b4;stroke:#1f77b4;\" x=\"291.092541\" xlink:href=\"#m0a57acf5a2\" y=\"164.665359\"/>\r\n     <use style=\"fill:#1f77b4;stroke:#1f77b4;\" x=\"292.599291\" xlink:href=\"#m0a57acf5a2\" y=\"189.216542\"/>\r\n     <use style=\"fill:#1f77b4;stroke:#1f77b4;\" x=\"294.106042\" xlink:href=\"#m0a57acf5a2\" y=\"65.746608\"/>\r\n     <use style=\"fill:#1f77b4;stroke:#1f77b4;\" x=\"295.612793\" xlink:href=\"#m0a57acf5a2\" y=\"17.303334\"/>\r\n     <use style=\"fill:#1f77b4;stroke:#1f77b4;\" x=\"297.119543\" xlink:href=\"#m0a57acf5a2\" y=\"66.845095\"/>\r\n     <use style=\"fill:#1f77b4;stroke:#1f77b4;\" x=\"298.626294\" xlink:href=\"#m0a57acf5a2\" y=\"41.030652\"/>\r\n     <use style=\"fill:#1f77b4;stroke:#1f77b4;\" x=\"300.133045\" xlink:href=\"#m0a57acf5a2\" y=\"190.20518\"/>\r\n     <use style=\"fill:#1f77b4;stroke:#1f77b4;\" x=\"301.639795\" xlink:href=\"#m0a57acf5a2\" y=\"65.801533\"/>\r\n     <use style=\"fill:#1f77b4;stroke:#1f77b4;\" x=\"303.146546\" xlink:href=\"#m0a57acf5a2\" y=\"164.830132\"/>\r\n     <use style=\"fill:#1f77b4;stroke:#1f77b4;\" x=\"304.653297\" xlink:href=\"#m0a57acf5a2\" y=\"139.729705\"/>\r\n     <use style=\"fill:#1f77b4;stroke:#1f77b4;\" x=\"306.160047\" xlink:href=\"#m0a57acf5a2\" y=\"139.784629\"/>\r\n     <use style=\"fill:#1f77b4;stroke:#1f77b4;\" x=\"307.666798\" xlink:href=\"#m0a57acf5a2\" y=\"139.894478\"/>\r\n     <use style=\"fill:#1f77b4;stroke:#1f77b4;\" x=\"309.173549\" xlink:href=\"#m0a57acf5a2\" y=\"189.051769\"/>\r\n     <use style=\"fill:#1f77b4;stroke:#1f77b4;\" x=\"310.680299\" xlink:href=\"#m0a57acf5a2\" y=\"41.195425\"/>\r\n     <use style=\"fill:#1f77b4;stroke:#1f77b4;\" x=\"312.18705\" xlink:href=\"#m0a57acf5a2\" y=\"66.90002\"/>\r\n     <use style=\"fill:#1f77b4;stroke:#1f77b4;\" x=\"313.693801\" xlink:href=\"#m0a57acf5a2\" y=\"115.28837\"/>\r\n     <use style=\"fill:#1f77b4;stroke:#1f77b4;\" x=\"315.200551\" xlink:href=\"#m0a57acf5a2\" y=\"190.479802\"/>\r\n     <use style=\"fill:#1f77b4;stroke:#1f77b4;\" x=\"316.707302\" xlink:href=\"#m0a57acf5a2\" y=\"164.720283\"/>\r\n     <use style=\"fill:#1f77b4;stroke:#1f77b4;\" x=\"318.214053\" xlink:href=\"#m0a57acf5a2\" y=\"42.184063\"/>\r\n     <use style=\"fill:#1f77b4;stroke:#1f77b4;\" x=\"319.720803\" xlink:href=\"#m0a57acf5a2\" y=\"165.81877\"/>\r\n     <use style=\"fill:#1f77b4;stroke:#1f77b4;\" x=\"321.227554\" xlink:href=\"#m0a57acf5a2\" y=\"42.129139\"/>\r\n     <use style=\"fill:#1f77b4;stroke:#1f77b4;\" x=\"322.734305\" xlink:href=\"#m0a57acf5a2\" y=\"189.161618\"/>\r\n     <use style=\"fill:#1f77b4;stroke:#1f77b4;\" x=\"324.241055\" xlink:href=\"#m0a57acf5a2\" y=\"17.687804\"/>\r\n     <use style=\"fill:#1f77b4;stroke:#1f77b4;\" x=\"325.747806\" xlink:href=\"#m0a57acf5a2\" y=\"17.797653\"/>\r\n     <use style=\"fill:#1f77b4;stroke:#1f77b4;\" x=\"327.254557\" xlink:href=\"#m0a57acf5a2\" y=\"17.742729\"/>\r\n     <use style=\"fill:#1f77b4;stroke:#1f77b4;\" x=\"328.761307\" xlink:href=\"#m0a57acf5a2\" y=\"165.983543\"/>\r\n     <use style=\"fill:#1f77b4;stroke:#1f77b4;\" x=\"330.268058\" xlink:href=\"#m0a57acf5a2\" y=\"114.40958\"/>\r\n     <use style=\"fill:#1f77b4;stroke:#1f77b4;\" x=\"331.774809\" xlink:href=\"#m0a57acf5a2\" y=\"114.354656\"/>\r\n     <use style=\"fill:#1f77b4;stroke:#1f77b4;\" x=\"333.281559\" xlink:href=\"#m0a57acf5a2\" y=\"91.670901\"/>\r\n     <use style=\"fill:#1f77b4;stroke:#1f77b4;\" x=\"334.78831\" xlink:href=\"#m0a57acf5a2\" y=\"40.75603\"/>\r\n     <use style=\"fill:#1f77b4;stroke:#1f77b4;\" x=\"336.295061\" xlink:href=\"#m0a57acf5a2\" y=\"210.41734\"/>\r\n     <use style=\"fill:#1f77b4;stroke:#1f77b4;\" x=\"337.801811\" xlink:href=\"#m0a57acf5a2\" y=\"115.343294\"/>\r\n     <use style=\"fill:#1f77b4;stroke:#1f77b4;\" x=\"339.308562\" xlink:href=\"#m0a57acf5a2\" y=\"17.413182\"/>\r\n     <use style=\"fill:#1f77b4;stroke:#1f77b4;\" x=\"340.815313\" xlink:href=\"#m0a57acf5a2\" y=\"165.599072\"/>\r\n     <use style=\"fill:#1f77b4;stroke:#1f77b4;\" x=\"342.322063\" xlink:href=\"#m0a57acf5a2\" y=\"41.140501\"/>\r\n     <use style=\"fill:#1f77b4;stroke:#1f77b4;\" x=\"343.828814\" xlink:href=\"#m0a57acf5a2\" y=\"40.865879\"/>\r\n     <use style=\"fill:#1f77b4;stroke:#1f77b4;\" x=\"345.335565\" xlink:href=\"#m0a57acf5a2\" y=\"17.523031\"/>\r\n     <use style=\"fill:#1f77b4;stroke:#1f77b4;\" x=\"346.842315\" xlink:href=\"#m0a57acf5a2\" y=\"141.157738\"/>\r\n     <use style=\"fill:#1f77b4;stroke:#1f77b4;\" x=\"348.349066\" xlink:href=\"#m0a57acf5a2\" y=\"90.407641\"/>\r\n     <use style=\"fill:#1f77b4;stroke:#1f77b4;\" x=\"349.855817\" xlink:href=\"#m0a57acf5a2\" y=\"213.602952\"/>\r\n     <use style=\"fill:#1f77b4;stroke:#1f77b4;\" x=\"351.362568\" xlink:href=\"#m0a57acf5a2\" y=\"90.078094\"/>\r\n     <use style=\"fill:#1f77b4;stroke:#1f77b4;\" x=\"352.869318\" xlink:href=\"#m0a57acf5a2\" y=\"89.473927\"/>\r\n    </g>\r\n   </g>\r\n   <g id=\"patch_3\">\r\n    <path d=\"M 33.2875 224.64 \r\nL 33.2875 7.2 \r\n\" style=\"fill:none;stroke:#000000;stroke-linecap:square;stroke-linejoin:miter;stroke-width:0.8;\"/>\r\n   </g>\r\n   <g id=\"patch_4\">\r\n    <path d=\"M 368.0875 224.64 \r\nL 368.0875 7.2 \r\n\" style=\"fill:none;stroke:#000000;stroke-linecap:square;stroke-linejoin:miter;stroke-width:0.8;\"/>\r\n   </g>\r\n   <g id=\"patch_5\">\r\n    <path d=\"M 33.2875 224.64 \r\nL 368.0875 224.64 \r\n\" style=\"fill:none;stroke:#000000;stroke-linecap:square;stroke-linejoin:miter;stroke-width:0.8;\"/>\r\n   </g>\r\n   <g id=\"patch_6\">\r\n    <path d=\"M 33.2875 7.2 \r\nL 368.0875 7.2 \r\n\" style=\"fill:none;stroke:#000000;stroke-linecap:square;stroke-linejoin:miter;stroke-width:0.8;\"/>\r\n   </g>\r\n  </g>\r\n </g>\r\n <defs>\r\n  <clipPath id=\"pdc780df172\">\r\n   <rect height=\"217.44\" width=\"334.8\" x=\"33.2875\" y=\"7.2\"/>\r\n  </clipPath>\r\n </defs>\r\n</svg>\r\n",
      "image/png": "[encoded data removed]"
     },
     "metadata": {
      "needs_background": "light"
     }
    }
   ],
   "source": [
    "# The good news is, the orientation measurement remains within reasonable range of 45-degree split. We can round the value\n",
    "plt.plot(offline['orientation'].unique(), marker='.', linestyle='none')\n",
    "plt.yticks(np.linspace(0,360,9))\n",
    "plt.show()"
   ]
  },
  {
   "cell_type": "code",
   "execution_count": 20,
   "metadata": {},
   "outputs": [],
   "source": [
    "# define a function that rounds orientation value to nearest 8 slices(45 degree angle) \n",
    "def round_orientation(angle):\n",
    "    refs = np.linspace(0,360,9)\n",
    "    rounded_angle = refs[np.argmin(np.abs(angle - refs))]\n",
    "    if rounded_angle==360:\n",
    "        rounded_angle=0\n",
    "    return rounded_angle"
   ]
  },
  {
   "cell_type": "code",
   "execution_count": 21,
   "metadata": {},
   "outputs": [],
   "source": [
    "offline['orientation'] = offline['orientation'].apply(round_orientation)"
   ]
  },
  {
   "cell_type": "code",
   "execution_count": 22,
   "metadata": {},
   "outputs": [],
   "source": [
    "# Let's save the dataframe as CSV for further analysis \n",
    "offline.to_csv('./data/offline_processed.csv', index=False)"
   ]
  },
  {
   "cell_type": "markdown",
   "metadata": {},
   "source": [
    "We will prepare the online data(test data) with the same rules"
   ]
  },
  {
   "cell_type": "code",
   "execution_count": 23,
   "metadata": {},
   "outputs": [
    {
     "output_type": "stream",
     "name": "stdout",
     "text": "the number of comment lines : 240\nthe number of payload lines: 6592\n"
    }
   ],
   "source": [
    "with open ('./data/online.final.trace.txt',) as online_file:\n",
    "    comment_count = 0\n",
    "    payload_count = 0 \n",
    "    comment_str = [] \n",
    "    payload_str = []\n",
    "    for line in online_file:\n",
    "        if line.startswith('#'):\n",
    "            comment_count += 1\n",
    "            comment_str.append(line)\n",
    "        else:\n",
    "            payload_count += 1\n",
    "            payload_str.append(line)\n",
    "\n",
    "print('the number of comment lines : %s' % comment_count)\n",
    "print('the number of payload lines: %s' % payload_count)"
   ]
  },
  {
   "cell_type": "code",
   "execution_count": 25,
   "metadata": {},
   "outputs": [],
   "source": [
    "online = pd.DataFrame(payload_str, columns=['original'])\n",
    "online = online['original'].str.split(';',n=4, expand=True)\n",
    "online['raw_time'] = pd.to_datetime(pd.to_numeric(online[0].str.replace('t=','')), unit='ms')\n",
    "online = online.drop(0, axis=1)\n",
    "online['scan_mac']= online[1].str.replace('id=','')\n",
    "online = online.drop(1, axis=1)\n",
    "online[['pos_x', 'pos_y','pos_z']] = online[2].str.replace('pos=','').str.split(',',n=3, expand=True)\n",
    "online['orientation'] = online[3].str.replace('degree=','')\n",
    "online = online.drop([2,3], axis=1)\n",
    "online[['pos_x', 'pos_y','pos_z', 'orientation']] = online[['pos_x', 'pos_y','pos_z', 'orientation']].apply(pd.to_numeric, axis=1)\n",
    "on_signal = online[4].copy()\n",
    "online = online.drop(4, axis=1)\n",
    "on_signal = on_signal.str.split(';', expand=True).stack(dropna=True).reset_index(level=[0]).set_index('level_0')\n",
    "on_signal[['mac','signal_raw']] = on_signal[0].str.split('=', expand=True)\n",
    "on_signal[['signal', 'channel', 'device_type']] = on_signal['signal_raw'].str.split(',', expand=True)\n",
    "on_signal['signal'] = on_signal['signal'].apply(pd.to_numeric)\n",
    "on_signal = on_signal.drop([0,'signal_raw'], axis=1)\n",
    "online = online.join(off_signal)\n",
    "online = online[online['device_type'] == '3']\n",
    "online = online.drop(['scan_mac', 'pos_z'], axis=1)\n"
   ]
  },
  {
   "cell_type": "code",
   "execution_count": 26,
   "metadata": {},
   "outputs": [],
   "source": [
    "# define a function that rounds orientation value to nearest 8 slices(45 degree angle). Refer to EDA notebood to see why we are doing this. \n",
    "def round_orientation(angle):\n",
    "    refs = np.linspace(0,360,9)\n",
    "    rounded_angle = refs[np.argmin(np.abs(angle - refs))]\n",
    "    if rounded_angle==360:\n",
    "        rounded_angle=0\n",
    "    return rounded_angle"
   ]
  },
  {
   "cell_type": "code",
   "execution_count": 27,
   "metadata": {},
   "outputs": [],
   "source": [
    "online['orientation'] = online['orientation'].apply(round_orientation)"
   ]
  },
  {
   "cell_type": "code",
   "execution_count": 28,
   "metadata": {},
   "outputs": [
    {
     "output_type": "execute_result",
     "data": {
      "text/plain": "00:0f:a3:39:e1:c0    6590\n00:0f:a3:39:dd:cd    6393\n00:14:bf:b1:97:8a    6010\n00:14:bf:3b:c7:c6    5833\n00:14:bf:b1:97:90    5761\n00:0f:a3:39:e0:4b    5401\n00:14:bf:b1:97:81    5253\n00:14:bf:b1:97:8d    5229\n00:0f:a3:39:e2:10    5113\n00:04:0e:5c:23:fc     275\n00:30:bd:f8:7f:c5     195\nName: mac, dtype: int64"
     },
     "metadata": {},
     "execution_count": 28
    }
   ],
   "source": [
    "# it seems that online data also includes data from other APs. We will exclude such cases. Refer to EDA notebook. \n",
    "online['mac'].value_counts()"
   ]
  },
  {
   "cell_type": "code",
   "execution_count": 30,
   "metadata": {},
   "outputs": [],
   "source": [
    "# Commenting this out, as we will process online data further in '03-knn stage'\n",
    "legit_ap = offline['mac'].value_counts().index[0:7]\n",
    "online = online[online['mac'].isin(legit_ap)]"
   ]
  },
  {
   "cell_type": "code",
   "execution_count": 31,
   "metadata": {},
   "outputs": [
    {
     "output_type": "execute_result",
     "data": {
      "text/plain": "                 raw_time  pos_x  pos_y  orientation                mac  \\\n0 2006-02-11 21:14:37.303    0.0   0.05        135.0  00:14:bf:b1:97:8a   \n0 2006-02-11 21:14:37.303    0.0   0.05        135.0  00:14:bf:b1:97:90   \n0 2006-02-11 21:14:37.303    0.0   0.05        135.0  00:0f:a3:39:e1:c0   \n0 2006-02-11 21:14:37.303    0.0   0.05        135.0  00:14:bf:b1:97:8d   \n0 2006-02-11 21:14:37.303    0.0   0.05        135.0  00:14:bf:b1:97:81   \n\n   signal     channel device_type  \n0     -38  2437000000           3  \n0     -56  2427000000           3  \n0     -53  2462000000           3  \n0     -65  2442000000           3  \n0     -65  2422000000           3  ",
      "text/html": "<div>\n<style scoped>\n    .dataframe tbody tr th:only-of-type {\n        vertical-align: middle;\n    }\n\n    .dataframe tbody tr th {\n        vertical-align: top;\n    }\n\n    .dataframe thead th {\n        text-align: right;\n    }\n</style>\n<table border=\"1\" class=\"dataframe\">\n  <thead>\n    <tr style=\"text-align: right;\">\n      <th></th>\n      <th>raw_time</th>\n      <th>pos_x</th>\n      <th>pos_y</th>\n      <th>orientation</th>\n      <th>mac</th>\n      <th>signal</th>\n      <th>channel</th>\n      <th>device_type</th>\n    </tr>\n  </thead>\n  <tbody>\n    <tr>\n      <th>0</th>\n      <td>2006-02-11 21:14:37.303</td>\n      <td>0.0</td>\n      <td>0.05</td>\n      <td>135.0</td>\n      <td>00:14:bf:b1:97:8a</td>\n      <td>-38</td>\n      <td>2437000000</td>\n      <td>3</td>\n    </tr>\n    <tr>\n      <th>0</th>\n      <td>2006-02-11 21:14:37.303</td>\n      <td>0.0</td>\n      <td>0.05</td>\n      <td>135.0</td>\n      <td>00:14:bf:b1:97:90</td>\n      <td>-56</td>\n      <td>2427000000</td>\n      <td>3</td>\n    </tr>\n    <tr>\n      <th>0</th>\n      <td>2006-02-11 21:14:37.303</td>\n      <td>0.0</td>\n      <td>0.05</td>\n      <td>135.0</td>\n      <td>00:0f:a3:39:e1:c0</td>\n      <td>-53</td>\n      <td>2462000000</td>\n      <td>3</td>\n    </tr>\n    <tr>\n      <th>0</th>\n      <td>2006-02-11 21:14:37.303</td>\n      <td>0.0</td>\n      <td>0.05</td>\n      <td>135.0</td>\n      <td>00:14:bf:b1:97:8d</td>\n      <td>-65</td>\n      <td>2442000000</td>\n      <td>3</td>\n    </tr>\n    <tr>\n      <th>0</th>\n      <td>2006-02-11 21:14:37.303</td>\n      <td>0.0</td>\n      <td>0.05</td>\n      <td>135.0</td>\n      <td>00:14:bf:b1:97:81</td>\n      <td>-65</td>\n      <td>2422000000</td>\n      <td>3</td>\n    </tr>\n  </tbody>\n</table>\n</div>"
     },
     "metadata": {},
     "execution_count": 31
    }
   ],
   "source": [
    "online.head()"
   ]
  },
  {
   "cell_type": "code",
   "execution_count": 32,
   "metadata": {},
   "outputs": [
    {
     "output_type": "execute_result",
     "data": {
      "text/plain": "(41069, 8)"
     },
     "metadata": {},
     "execution_count": 32
    }
   ],
   "source": [
    "online.shape"
   ]
  },
  {
   "cell_type": "code",
   "execution_count": 33,
   "metadata": {},
   "outputs": [],
   "source": [
    "# Let's save the dataframe as CSV without further pivoting. We will save a separate, pivot file for prediction.\n",
    "online.to_csv('./data/online_processed.csv', index=False)"
   ]
  },
  {
   "cell_type": "code",
   "execution_count": 34,
   "metadata": {},
   "outputs": [],
   "source": [
    "online['pos_xy'] = online[['pos_x', 'pos_y']].astype(str).agg('-'.join, axis=1)"
   ]
  },
  {
   "cell_type": "code",
   "execution_count": 36,
   "metadata": {},
   "outputs": [],
   "source": [
    "online_pivot = pd.pivot_table(online, values='signal', index=['pos_xy', 'orientation'], columns='mac', aggfunc=np.mean).reset_index()"
   ]
  },
  {
   "cell_type": "code",
   "execution_count": 42,
   "metadata": {},
   "outputs": [],
   "source": [
    "online_pivot = online_pivot[['pos_xy', '00:0f:a3:39:e1:c0', '00:0f:a3:39:dd:cd', '00:14:bf:b1:97:8a',\n",
    "       '00:14:bf:3b:c7:c6', '00:14:bf:b1:97:8d', '00:14:bf:b1:97:90',\n",
    "       '00:14:bf:b1:97:81', 'orientation']]"
   ]
  },
  {
   "cell_type": "code",
   "execution_count": 43,
   "metadata": {},
   "outputs": [],
   "source": [
    "online_pivot.to_csv('./data/online_pivot.csv', index=False)"
   ]
  },
  {
   "cell_type": "code",
   "execution_count": null,
   "metadata": {},
   "outputs": [],
   "source": []
  }
 ],
 "metadata": {
  "language_info": {
   "codemirror_mode": {
    "name": "ipython",
    "version": 3
   },
   "file_extension": ".py",
   "mimetype": "text/x-python",
   "name": "python",
   "nbconvert_exporter": "python",
   "pygments_lexer": "ipython3",
   "version": "3.7.6-final"
  },
  "orig_nbformat": 2,
  "kernelspec": {
   "name": "python37664bitmlearnconda0083abed3f784a9c9440b2aa200e0f06",
   "display_name": "Python 3.7.6 64-bit ('mlearn': conda)"
  }
 },
 "nbformat": 4,
 "nbformat_minor": 2
}