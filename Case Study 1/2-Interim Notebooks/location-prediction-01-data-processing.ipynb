{
 "cells": [
  {
   "cell_type": "markdown",
   "metadata": {},
   "source": [
    "# Predicting Location via Indoor Positioning System \n",
    "## Data Preprocessing in Python \n",
    "This script and subsequent notebooks are the Python conversion of the Indoor Location case study from the book, 'Data Science in R' by Nolan and Lang. http://rdatasciencecases.org/code.html <BR>\n",
    "* Team: Jonathan Tan, Lance Dacy, Reannan Mcdaniel, Shawn Jung \n",
    "* Last Update: 5/5/2020 "
   ]
  },
  {
   "cell_type": "code",
   "execution_count": 18,
   "metadata": {},
   "outputs": [],
   "source": [
    "import pandas as pd \n",
    "import numpy as np \n",
    "import matplotlib.pyplot as plt \n",
    "%matplotlib inline  "
   ]
  },
  {
   "cell_type": "code",
   "execution_count": 19,
   "metadata": {},
   "outputs": [
    {
     "output_type": "stream",
     "name": "stdout",
     "text": "the number of comment lines : 5312\nthe number of payload lines: 146080\n"
    }
   ],
   "source": [
    "# the raw text files are not in a csv format, and the first few lines are comments. Let's check if the comments exist in other parts as well. \n",
    "with open ('./data/offline.final.trace.txt',) as offline_file:\n",
    "    comment_count = 0\n",
    "    payload_count = 0 \n",
    "    comment_str = [] \n",
    "    payload_str = []\n",
    "    for line in offline_file:\n",
    "        if line.startswith('#'):\n",
    "            comment_count += 1\n",
    "            comment_str.append(line)\n",
    "        else:\n",
    "            payload_count += 1\n",
    "            payload_str.append(line)\n",
    "\n",
    "print('the number of comment lines : %s' % comment_count)\n",
    "print('the number of payload lines: %s' % payload_count)\n",
    "\n"
   ]
  },
  {
   "cell_type": "code",
   "execution_count": 20,
   "metadata": {},
   "outputs": [
    {
     "output_type": "execute_result",
     "data": {
      "text/plain": "'t=1139643119538;id=00:02:2D:21:0F:33;pos=0.0,0.0,0.0;degree=0.0;00:14:bf:b1:97:8a=-46,2437000000,3;00:0f:a3:39:e1:c0=-55,2462000000,3;00:14:bf:b1:97:90=-57,2427000000,3;00:14:bf:3b:c7:c6=-67,2432000000,3;00:0f:a3:39:dd:cd=-66,2412000000,3;00:0f:a3:39:e0:4b=-80,2462000000,3;00:0f:a3:39:e2:10=-83,2437000000,3;00:14:bf:b1:97:81=-66,2422000000,3;02:00:42:55:31:00=-87,2457000000,1\\n'"
     },
     "metadata": {},
     "execution_count": 20
    }
   ],
   "source": [
    "# processing the raw data \n",
    "# it appears that each element can be separated by semicolons. And we see each key/value is defined with the 'equal' sign, and values such as position(pos) is seprated by commas \n",
    "payload_str[4]"
   ]
  },
  {
   "cell_type": "code",
   "execution_count": 21,
   "metadata": {},
   "outputs": [],
   "source": [
    "# I will define a function to process each line into tabular records consisted of raw time, scan MAC address, positions, orientation and signal data, similar to 'processLine' R function in the book. But I did not take this route as it took so long. Leaving the code here for furture reference. \n",
    "\n",
    "def process_line(payload_line):\n",
    "    raw_time = payload_line.split(';')[0].split('=')[1]\n",
    "    scan_mac = payload_line.split(';')[1].split('=')[1]\n",
    "    pos_x, pos_y, pos_z = payload_line.split(';')[2].split('=')[1].split(',')\n",
    "    orientation = payload_line.split(';')[3].split('=')[1]\n",
    "\n",
    "    df1 = pd.DataFrame({'raw_time':[raw_time], 'scan_mac':[scan_mac], 'pos_x':[pos_x], 'pos_y':[pos_y], 'pos_z':[pos_z], 'orientation':[orientation]})\n",
    "\n",
    "    scan_mac, mac, signal, channel, device_type = [], [], [], [], [] \n",
    "\n",
    "    for i in range(len(payload_line.split(';')[4:])):\n",
    "        scan_mac.append(payload_line.split(';')[1].split('=')[1])\n",
    "        mac.append(payload_line.split(';')[i+4].split('=')[0])\n",
    "        signal.append(payload_line.split(';')[i+4].split('=')[1].split(',')[0])\n",
    "        channel.append(payload_line.split(';')[i+4].split('=')[1].split(',')[1])\n",
    "        device_type.append(payload_line.split(';')[i+4].split('=')[1].split(',')[2])\n",
    "\n",
    "    df2 = pd.DataFrame({'scan_mac':scan_mac,'mac':mac, 'signal':signal, 'channel':channel, 'device_type':device_type})\n",
    "\n",
    "    #df_line = df1.merge(df2)\n",
    "    return df1, df2"
   ]
  },
  {
   "cell_type": "code",
   "execution_count": 22,
   "metadata": {},
   "outputs": [],
   "source": [
    "# Let's check if the function works\n",
    "#process_line(payload_str[4].rstrip())"
   ]
  },
  {
   "cell_type": "code",
   "execution_count": 23,
   "metadata": {},
   "outputs": [],
   "source": [
    "# BTW, applying the function to all payload lines take long time. There can be a faster way in Python as they did with R, but I would rather try processing them with Pandas\n",
    "\n",
    "#df_offline1 = pd.DataFrame()\n",
    "#df_offline2 = pd.DataFrame()\n",
    "\n",
    "#for line in payload_str:\n",
    "#    df_temp1, df_temp2 = process_line(line.rstrip())\n",
    "\n",
    "#    df_offline1 = df_offline1.append(df_temp1)\n",
    "#    df_offline2 = df_offline2.append(df_temp2)\n",
    "#df_offline = df_offline1.merge(df_offline2)    "
   ]
  },
  {
   "cell_type": "markdown",
   "metadata": {},
   "source": [
    "Processing with Pandas"
   ]
  },
  {
   "cell_type": "code",
   "execution_count": 24,
   "metadata": {},
   "outputs": [],
   "source": [
    "offline = pd.DataFrame(payload_str, columns=['original'])"
   ]
  },
  {
   "cell_type": "code",
   "execution_count": 25,
   "metadata": {},
   "outputs": [
    {
     "output_type": "execute_result",
     "data": {
      "text/plain": "                 0                     1                2           3  \\\n0  t=1139643118358  id=00:02:2D:21:0F:33  pos=0.0,0.0,0.0  degree=0.0   \n1  t=1139643118744  id=00:02:2D:21:0F:33  pos=0.0,0.0,0.0  degree=0.0   \n2  t=1139643119002  id=00:02:2D:21:0F:33  pos=0.0,0.0,0.0  degree=0.0   \n3  t=1139643119263  id=00:02:2D:21:0F:33  pos=0.0,0.0,0.0  degree=0.0   \n4  t=1139643119538  id=00:02:2D:21:0F:33  pos=0.0,0.0,0.0  degree=0.0   \n\n                                                   4  \n0  00:14:bf:b1:97:8a=-38,2437000000,3;00:14:bf:b1...  \n1  00:14:bf:b1:97:8a=-38,2437000000,3;00:0f:a3:39...  \n2  00:14:bf:b1:97:8a=-38,2437000000,3;00:0f:a3:39...  \n3  00:14:bf:b1:97:8a=-38,2437000000,3;00:14:bf:b1...  \n4  00:14:bf:b1:97:8a=-46,2437000000,3;00:0f:a3:39...  ",
      "text/html": "<div>\n<style scoped>\n    .dataframe tbody tr th:only-of-type {\n        vertical-align: middle;\n    }\n\n    .dataframe tbody tr th {\n        vertical-align: top;\n    }\n\n    .dataframe thead th {\n        text-align: right;\n    }\n</style>\n<table border=\"1\" class=\"dataframe\">\n  <thead>\n    <tr style=\"text-align: right;\">\n      <th></th>\n      <th>0</th>\n      <th>1</th>\n      <th>2</th>\n      <th>3</th>\n      <th>4</th>\n    </tr>\n  </thead>\n  <tbody>\n    <tr>\n      <th>0</th>\n      <td>t=1139643118358</td>\n      <td>id=00:02:2D:21:0F:33</td>\n      <td>pos=0.0,0.0,0.0</td>\n      <td>degree=0.0</td>\n      <td>00:14:bf:b1:97:8a=-38,2437000000,3;00:14:bf:b1...</td>\n    </tr>\n    <tr>\n      <th>1</th>\n      <td>t=1139643118744</td>\n      <td>id=00:02:2D:21:0F:33</td>\n      <td>pos=0.0,0.0,0.0</td>\n      <td>degree=0.0</td>\n      <td>00:14:bf:b1:97:8a=-38,2437000000,3;00:0f:a3:39...</td>\n    </tr>\n    <tr>\n      <th>2</th>\n      <td>t=1139643119002</td>\n      <td>id=00:02:2D:21:0F:33</td>\n      <td>pos=0.0,0.0,0.0</td>\n      <td>degree=0.0</td>\n      <td>00:14:bf:b1:97:8a=-38,2437000000,3;00:0f:a3:39...</td>\n    </tr>\n    <tr>\n      <th>3</th>\n      <td>t=1139643119263</td>\n      <td>id=00:02:2D:21:0F:33</td>\n      <td>pos=0.0,0.0,0.0</td>\n      <td>degree=0.0</td>\n      <td>00:14:bf:b1:97:8a=-38,2437000000,3;00:14:bf:b1...</td>\n    </tr>\n    <tr>\n      <th>4</th>\n      <td>t=1139643119538</td>\n      <td>id=00:02:2D:21:0F:33</td>\n      <td>pos=0.0,0.0,0.0</td>\n      <td>degree=0.0</td>\n      <td>00:14:bf:b1:97:8a=-46,2437000000,3;00:0f:a3:39...</td>\n    </tr>\n  </tbody>\n</table>\n</div>"
     },
     "metadata": {},
     "execution_count": 25
    }
   ],
   "source": [
    "# The raw data is in a kind of nested structure. So I will first take care of the position and time data per each obsevation \n",
    "offline = offline['original'].str.split(';',n=4, expand=True)\n",
    "offline.head()"
   ]
  },
  {
   "cell_type": "code",
   "execution_count": 26,
   "metadata": {},
   "outputs": [],
   "source": [
    "# Handling time data\n",
    "offline['raw_time'] = pd.to_datetime(pd.to_numeric(offline[0].str.replace('t=','')), unit='ms')\n",
    "offline = offline.drop(0, axis=1)"
   ]
  },
  {
   "cell_type": "code",
   "execution_count": 27,
   "metadata": {},
   "outputs": [],
   "source": [
    "# the scan MAC address info \n",
    "offline['scan_mac']= offline[1].str.replace('id=','')\n",
    "offline = offline.drop(1, axis=1)"
   ]
  },
  {
   "cell_type": "code",
   "execution_count": 28,
   "metadata": {},
   "outputs": [],
   "source": [
    "# parsing the 3-D position and orientation \n",
    "offline[['pos_x', 'pos_y','pos_z']] = offline[2].str.replace('pos=','').str.split(',',n=3, expand=True)\n",
    "offline['orientation'] = offline[3].str.replace('degree=','')\n",
    "offline = offline.drop([2,3], axis=1)"
   ]
  },
  {
   "cell_type": "code",
   "execution_count": 29,
   "metadata": {},
   "outputs": [],
   "source": [
    "offline[['pos_x', 'pos_y','pos_z', 'orientation']] = offline[['pos_x', 'pos_y','pos_z', 'orientation']].apply(pd.to_numeric, axis=1)"
   ]
  },
  {
   "cell_type": "code",
   "execution_count": 30,
   "metadata": {},
   "outputs": [],
   "source": [
    "# stacking up the nested signal measurement as a separate df, 'off_signal'. This df will be joined to the original df\n",
    "off_signal = offline[4].copy()\n",
    "offline = offline.drop(4, axis=1)\n",
    "\n",
    "off_signal = off_signal.str.split(';', expand=True).stack(dropna=True).reset_index(level=[0]).set_index('level_0')\n",
    "off_signal[['mac','signal_raw']] = off_signal[0].str.split('=', expand=True)\n",
    "off_signal[['signal', 'channel', 'device_type']] = off_signal['signal_raw'].str.split(',', expand=True)\n",
    "off_signal['signal'] = off_signal['signal'].apply(pd.to_numeric)\n",
    "off_signal = off_signal.drop([0,'signal_raw'], axis=1)"
   ]
  },
  {
   "cell_type": "code",
   "execution_count": 31,
   "metadata": {},
   "outputs": [],
   "source": [
    "# finally, join the data frame \n",
    "offline = offline.join(off_signal)"
   ]
  },
  {
   "cell_type": "code",
   "execution_count": 32,
   "metadata": {},
   "outputs": [
    {
     "output_type": "execute_result",
     "data": {
      "text/plain": "                 raw_time           scan_mac  pos_x  pos_y  pos_z  \\\n0 2006-02-11 07:31:58.358  00:02:2D:21:0F:33    0.0    0.0    0.0   \n0 2006-02-11 07:31:58.358  00:02:2D:21:0F:33    0.0    0.0    0.0   \n0 2006-02-11 07:31:58.358  00:02:2D:21:0F:33    0.0    0.0    0.0   \n0 2006-02-11 07:31:58.358  00:02:2D:21:0F:33    0.0    0.0    0.0   \n0 2006-02-11 07:31:58.358  00:02:2D:21:0F:33    0.0    0.0    0.0   \n\n   orientation                mac  signal     channel device_type  \n0          0.0  00:14:bf:b1:97:8a   -38.0  2437000000           3  \n0          0.0  00:14:bf:b1:97:90   -56.0  2427000000           3  \n0          0.0  00:0f:a3:39:e1:c0   -53.0  2462000000           3  \n0          0.0  00:14:bf:b1:97:8d   -65.0  2442000000           3  \n0          0.0  00:14:bf:b1:97:81   -65.0  2422000000           3  ",
      "text/html": "<div>\n<style scoped>\n    .dataframe tbody tr th:only-of-type {\n        vertical-align: middle;\n    }\n\n    .dataframe tbody tr th {\n        vertical-align: top;\n    }\n\n    .dataframe thead th {\n        text-align: right;\n    }\n</style>\n<table border=\"1\" class=\"dataframe\">\n  <thead>\n    <tr style=\"text-align: right;\">\n      <th></th>\n      <th>raw_time</th>\n      <th>scan_mac</th>\n      <th>pos_x</th>\n      <th>pos_y</th>\n      <th>pos_z</th>\n      <th>orientation</th>\n      <th>mac</th>\n      <th>signal</th>\n      <th>channel</th>\n      <th>device_type</th>\n    </tr>\n  </thead>\n  <tbody>\n    <tr>\n      <th>0</th>\n      <td>2006-02-11 07:31:58.358</td>\n      <td>00:02:2D:21:0F:33</td>\n      <td>0.0</td>\n      <td>0.0</td>\n      <td>0.0</td>\n      <td>0.0</td>\n      <td>00:14:bf:b1:97:8a</td>\n      <td>-38.0</td>\n      <td>2437000000</td>\n      <td>3</td>\n    </tr>\n    <tr>\n      <th>0</th>\n      <td>2006-02-11 07:31:58.358</td>\n      <td>00:02:2D:21:0F:33</td>\n      <td>0.0</td>\n      <td>0.0</td>\n      <td>0.0</td>\n      <td>0.0</td>\n      <td>00:14:bf:b1:97:90</td>\n      <td>-56.0</td>\n      <td>2427000000</td>\n      <td>3</td>\n    </tr>\n    <tr>\n      <th>0</th>\n      <td>2006-02-11 07:31:58.358</td>\n      <td>00:02:2D:21:0F:33</td>\n      <td>0.0</td>\n      <td>0.0</td>\n      <td>0.0</td>\n      <td>0.0</td>\n      <td>00:0f:a3:39:e1:c0</td>\n      <td>-53.0</td>\n      <td>2462000000</td>\n      <td>3</td>\n    </tr>\n    <tr>\n      <th>0</th>\n      <td>2006-02-11 07:31:58.358</td>\n      <td>00:02:2D:21:0F:33</td>\n      <td>0.0</td>\n      <td>0.0</td>\n      <td>0.0</td>\n      <td>0.0</td>\n      <td>00:14:bf:b1:97:8d</td>\n      <td>-65.0</td>\n      <td>2442000000</td>\n      <td>3</td>\n    </tr>\n    <tr>\n      <th>0</th>\n      <td>2006-02-11 07:31:58.358</td>\n      <td>00:02:2D:21:0F:33</td>\n      <td>0.0</td>\n      <td>0.0</td>\n      <td>0.0</td>\n      <td>0.0</td>\n      <td>00:14:bf:b1:97:81</td>\n      <td>-65.0</td>\n      <td>2422000000</td>\n      <td>3</td>\n    </tr>\n  </tbody>\n</table>\n</div>"
     },
     "metadata": {},
     "execution_count": 32
    }
   ],
   "source": [
    "offline.head()"
   ]
  },
  {
   "cell_type": "code",
   "execution_count": 33,
   "metadata": {},
   "outputs": [],
   "source": [
    "# as explained in the book(p. 14), we can remove pos_z since we are interested in the 2-D-ish position indoor. And apply filtering on device-type (access point only) Refer to the Chapter 1 of the book for further information \n",
    "offline = offline[offline['device_type'] == '3']\n",
    "offline = offline.drop(['scan_mac', 'pos_z'], axis=1)"
   ]
  },
  {
   "cell_type": "code",
   "execution_count": 34,
   "metadata": {},
   "outputs": [
    {
     "output_type": "execute_result",
     "data": {
      "text/plain": "               pos_x          pos_y    orientation         signal\ncount  963604.000000  963604.000000  963604.000000  963604.000000\nmean       13.545048       5.886030     167.172387     -61.500762\nstd        10.652896       2.740405     105.012372      12.071176\nmin         0.000000       0.000000       0.000000     -99.000000\n25%         2.000000       3.000000      90.000000     -69.000000\n50%        12.000000       6.000000     180.000000     -60.000000\n75%        23.000000       8.000000     270.000000     -53.000000\nmax        33.000000      13.000000     359.900000     -25.000000",
      "text/html": "<div>\n<style scoped>\n    .dataframe tbody tr th:only-of-type {\n        vertical-align: middle;\n    }\n\n    .dataframe tbody tr th {\n        vertical-align: top;\n    }\n\n    .dataframe thead th {\n        text-align: right;\n    }\n</style>\n<table border=\"1\" class=\"dataframe\">\n  <thead>\n    <tr style=\"text-align: right;\">\n      <th></th>\n      <th>pos_x</th>\n      <th>pos_y</th>\n      <th>orientation</th>\n      <th>signal</th>\n    </tr>\n  </thead>\n  <tbody>\n    <tr>\n      <th>count</th>\n      <td>963604.000000</td>\n      <td>963604.000000</td>\n      <td>963604.000000</td>\n      <td>963604.000000</td>\n    </tr>\n    <tr>\n      <th>mean</th>\n      <td>13.545048</td>\n      <td>5.886030</td>\n      <td>167.172387</td>\n      <td>-61.500762</td>\n    </tr>\n    <tr>\n      <th>std</th>\n      <td>10.652896</td>\n      <td>2.740405</td>\n      <td>105.012372</td>\n      <td>12.071176</td>\n    </tr>\n    <tr>\n      <th>min</th>\n      <td>0.000000</td>\n      <td>0.000000</td>\n      <td>0.000000</td>\n      <td>-99.000000</td>\n    </tr>\n    <tr>\n      <th>25%</th>\n      <td>2.000000</td>\n      <td>3.000000</td>\n      <td>90.000000</td>\n      <td>-69.000000</td>\n    </tr>\n    <tr>\n      <th>50%</th>\n      <td>12.000000</td>\n      <td>6.000000</td>\n      <td>180.000000</td>\n      <td>-60.000000</td>\n    </tr>\n    <tr>\n      <th>75%</th>\n      <td>23.000000</td>\n      <td>8.000000</td>\n      <td>270.000000</td>\n      <td>-53.000000</td>\n    </tr>\n    <tr>\n      <th>max</th>\n      <td>33.000000</td>\n      <td>13.000000</td>\n      <td>359.900000</td>\n      <td>-25.000000</td>\n    </tr>\n  </tbody>\n</table>\n</div>"
     },
     "metadata": {},
     "execution_count": 34
    }
   ],
   "source": [
    "offline.describe()"
   ]
  },
  {
   "cell_type": "code",
   "execution_count": 35,
   "metadata": {},
   "outputs": [],
   "source": [
    "# Let's save the dataframe as CSV for further analysis \n",
    "offline.to_csv('./data/offline_processed.csv', index=False)"
   ]
  },
  {
   "cell_type": "markdown",
   "metadata": {},
   "source": [
    "We will prepare the online data(test data) with the same routine"
   ]
  },
  {
   "cell_type": "code",
   "execution_count": 36,
   "metadata": {},
   "outputs": [
    {
     "output_type": "stream",
     "name": "stdout",
     "text": "the number of comment lines : 240\nthe number of payload lines: 6592\n"
    }
   ],
   "source": [
    "with open ('./data/online.final.trace.txt',) as online_file:\n",
    "    comment_count = 0\n",
    "    payload_count = 0 \n",
    "    comment_str = [] \n",
    "    payload_str = []\n",
    "    for line in online_file:\n",
    "        if line.startswith('#'):\n",
    "            comment_count += 1\n",
    "            comment_str.append(line)\n",
    "        else:\n",
    "            payload_count += 1\n",
    "            payload_str.append(line)\n",
    "\n",
    "print('the number of comment lines : %s' % comment_count)\n",
    "print('the number of payload lines: %s' % payload_count)"
   ]
  },
  {
   "cell_type": "code",
   "execution_count": 37,
   "metadata": {},
   "outputs": [],
   "source": [
    "online = pd.DataFrame(payload_str, columns=['original'])\n",
    "online = online['original'].str.split(';',n=4, expand=True)\n",
    "online['raw_time'] = pd.to_datetime(pd.to_numeric(online[0].str.replace('t=','')), unit='ms')\n",
    "online = online.drop(0, axis=1)\n",
    "online['scan_mac']= online[1].str.replace('id=','')\n",
    "online = online.drop(1, axis=1)\n",
    "online[['pos_x', 'pos_y','pos_z']] = online[2].str.replace('pos=','').str.split(',',n=3, expand=True)\n",
    "online['orientation'] = online[3].str.replace('degree=','')\n",
    "online = online.drop([2,3], axis=1)\n",
    "online[['pos_x', 'pos_y','pos_z', 'orientation']] = online[['pos_x', 'pos_y','pos_z', 'orientation']].apply(pd.to_numeric, axis=1)\n",
    "off_signal = online[4].copy()\n",
    "online = online.drop(4, axis=1)\n",
    "off_signal = off_signal.str.split(';', expand=True).stack(dropna=True).reset_index(level=[0]).set_index('level_0')\n",
    "off_signal[['mac','signal_raw']] = off_signal[0].str.split('=', expand=True)\n",
    "off_signal[['signal', 'channel', 'device_type']] = off_signal['signal_raw'].str.split(',', expand=True)\n",
    "off_signal['signal'] = off_signal['signal'].apply(pd.to_numeric)\n",
    "off_signal = off_signal.drop([0,'signal_raw'], axis=1)\n",
    "online = online.join(off_signal)\n",
    "online = online[online['device_type'] == '3']\n",
    "online = online.drop(['scan_mac', 'pos_z'], axis=1)\n"
   ]
  },
  {
   "cell_type": "code",
   "execution_count": 38,
   "metadata": {},
   "outputs": [],
   "source": [
    "# define a function that rounds orientation value to nearest 8 slices(45 degree angle). Refer to EDA notebood to see why we are doing this. \n",
    "def round_orientation(angle):\n",
    "    refs = np.linspace(0,360,9)\n",
    "    rounded_angle = refs[np.argmin(np.abs(angle - refs))]\n",
    "    if rounded_angle==360:\n",
    "        rounded_angle=0\n",
    "    return rounded_angle"
   ]
  },
  {
   "cell_type": "code",
   "execution_count": 39,
   "metadata": {},
   "outputs": [],
   "source": [
    "online['orientation'] = online['orientation'].apply(round_orientation)"
   ]
  },
  {
   "cell_type": "code",
   "execution_count": 40,
   "metadata": {},
   "outputs": [
    {
     "output_type": "execute_result",
     "data": {
      "text/plain": "00:0f:a3:39:e1:c0    6559\n00:0f:a3:39:dd:cd    6290\n00:14:bf:b1:97:8a    6164\n00:14:bf:b1:97:90    5584\n00:14:bf:3b:c7:c6    5523\n00:14:bf:b1:97:8d    5440\n00:14:bf:b1:97:81    5361\n00:0f:a3:39:e0:4b    1685\n00:0f:a3:39:e2:10     653\n00:04:0e:5c:23:fc       8\nName: mac, dtype: int64"
     },
     "metadata": {},
     "execution_count": 40
    }
   ],
   "source": [
    "# it seems that online data also includes data from other APs. We will exclude such cases. Refer to EDA notebook. \n",
    "online['mac'].value_counts()"
   ]
  },
  {
   "cell_type": "code",
   "execution_count": 41,
   "metadata": {},
   "outputs": [],
   "source": [
    "legit_ap = online['mac'].value_counts().index[0:7]\n",
    "online = online[online['mac'].isin(legit_ap)]"
   ]
  },
  {
   "cell_type": "code",
   "execution_count": 42,
   "metadata": {},
   "outputs": [
    {
     "output_type": "execute_result",
     "data": {
      "text/plain": "                 raw_time  pos_x  pos_y  orientation                mac  \\\n0 2006-02-11 21:14:37.303    0.0   0.05        135.0  00:14:bf:b1:97:8a   \n0 2006-02-11 21:14:37.303    0.0   0.05        135.0  00:0f:a3:39:e1:c0   \n0 2006-02-11 21:14:37.303    0.0   0.05        135.0  00:14:bf:3b:c7:c6   \n0 2006-02-11 21:14:37.303    0.0   0.05        135.0  00:14:bf:b1:97:81   \n0 2006-02-11 21:14:37.303    0.0   0.05        135.0  00:14:bf:b1:97:8d   \n\n   signal     channel device_type  \n0     -43  2437000000           3  \n0     -52  2462000000           3  \n0     -62  2432000000           3  \n0     -58  2422000000           3  \n0     -62  2442000000           3  ",
      "text/html": "<div>\n<style scoped>\n    .dataframe tbody tr th:only-of-type {\n        vertical-align: middle;\n    }\n\n    .dataframe tbody tr th {\n        vertical-align: top;\n    }\n\n    .dataframe thead th {\n        text-align: right;\n    }\n</style>\n<table border=\"1\" class=\"dataframe\">\n  <thead>\n    <tr style=\"text-align: right;\">\n      <th></th>\n      <th>raw_time</th>\n      <th>pos_x</th>\n      <th>pos_y</th>\n      <th>orientation</th>\n      <th>mac</th>\n      <th>signal</th>\n      <th>channel</th>\n      <th>device_type</th>\n    </tr>\n  </thead>\n  <tbody>\n    <tr>\n      <th>0</th>\n      <td>2006-02-11 21:14:37.303</td>\n      <td>0.0</td>\n      <td>0.05</td>\n      <td>135.0</td>\n      <td>00:14:bf:b1:97:8a</td>\n      <td>-43</td>\n      <td>2437000000</td>\n      <td>3</td>\n    </tr>\n    <tr>\n      <th>0</th>\n      <td>2006-02-11 21:14:37.303</td>\n      <td>0.0</td>\n      <td>0.05</td>\n      <td>135.0</td>\n      <td>00:0f:a3:39:e1:c0</td>\n      <td>-52</td>\n      <td>2462000000</td>\n      <td>3</td>\n    </tr>\n    <tr>\n      <th>0</th>\n      <td>2006-02-11 21:14:37.303</td>\n      <td>0.0</td>\n      <td>0.05</td>\n      <td>135.0</td>\n      <td>00:14:bf:3b:c7:c6</td>\n      <td>-62</td>\n      <td>2432000000</td>\n      <td>3</td>\n    </tr>\n    <tr>\n      <th>0</th>\n      <td>2006-02-11 21:14:37.303</td>\n      <td>0.0</td>\n      <td>0.05</td>\n      <td>135.0</td>\n      <td>00:14:bf:b1:97:81</td>\n      <td>-58</td>\n      <td>2422000000</td>\n      <td>3</td>\n    </tr>\n    <tr>\n      <th>0</th>\n      <td>2006-02-11 21:14:37.303</td>\n      <td>0.0</td>\n      <td>0.05</td>\n      <td>135.0</td>\n      <td>00:14:bf:b1:97:8d</td>\n      <td>-62</td>\n      <td>2442000000</td>\n      <td>3</td>\n    </tr>\n  </tbody>\n</table>\n</div>"
     },
     "metadata": {},
     "execution_count": 42
    }
   ],
   "source": [
    "online.head"
   ]
  },
  {
   "cell_type": "code",
   "execution_count": 53,
   "metadata": {},
   "outputs": [
    {
     "output_type": "execute_result",
     "data": {
      "text/plain": "(40921, 9)"
     },
     "metadata": {},
     "execution_count": 53
    }
   ],
   "source": [
    "online.shape"
   ]
  },
  {
   "cell_type": "code",
   "execution_count": 43,
   "metadata": {},
   "outputs": [],
   "source": [
    "# Let's save the dataframe as CSV without further pivoting. We will save a separate, pivot file for prediction.\n",
    "online.to_csv('./data/online_processed.csv', index=False)"
   ]
  },
  {
   "cell_type": "code",
   "execution_count": 52,
   "metadata": {},
   "outputs": [],
   "source": [
    "online['pos_xy'] = online[['pos_x', 'pos_y']].astype(str).agg('-'.join, axis=1)"
   ]
  },
  {
   "cell_type": "code",
   "execution_count": 68,
   "metadata": {},
   "outputs": [],
   "source": [
    "online_pivot = pd.pivot_table(online, values='signal', index='pos_xy', columns='mac', aggfunc=np.mean).reset_index()"
   ]
  },
  {
   "cell_type": "code",
   "execution_count": 69,
   "metadata": {},
   "outputs": [
    {
     "output_type": "execute_result",
     "data": {
      "text/plain": "mac      pos_xy  00:0f:a3:39:dd:cd  00:0f:a3:39:e1:c0  00:14:bf:3b:c7:c6  \\\n0      0.0-0.05         -63.192661         -52.227273         -62.948980   \n1     0.15-9.42         -66.119266         -55.275229         -73.961905   \n2    0.31-11.09         -67.029126         -51.709091         -70.062500   \n3      0.47-8.2         -74.136364         -49.500000         -64.271739   \n4    0.78-10.94         -71.470000         -53.263636         -66.960000   \n\nmac  00:14:bf:b1:97:81  00:14:bf:b1:97:8a  00:14:bf:b1:97:8d  \\\n0           -61.813953         -40.068966         -63.054348   \n1           -72.701031         -47.566038         -69.454545   \n2           -70.098901         -54.088235         -69.131579   \n3           -72.597701         -45.652893         -60.797468   \n4           -66.819277         -48.413793         -65.000000   \n\nmac  00:14:bf:b1:97:90  \n0           -55.233333  \n1           -46.880000  \n2           -53.886598  \n3           -49.346939  \n4           -54.824742  ",
      "text/html": "<div>\n<style scoped>\n    .dataframe tbody tr th:only-of-type {\n        vertical-align: middle;\n    }\n\n    .dataframe tbody tr th {\n        vertical-align: top;\n    }\n\n    .dataframe thead th {\n        text-align: right;\n    }\n</style>\n<table border=\"1\" class=\"dataframe\">\n  <thead>\n    <tr style=\"text-align: right;\">\n      <th>mac</th>\n      <th>pos_xy</th>\n      <th>00:0f:a3:39:dd:cd</th>\n      <th>00:0f:a3:39:e1:c0</th>\n      <th>00:14:bf:3b:c7:c6</th>\n      <th>00:14:bf:b1:97:81</th>\n      <th>00:14:bf:b1:97:8a</th>\n      <th>00:14:bf:b1:97:8d</th>\n      <th>00:14:bf:b1:97:90</th>\n    </tr>\n  </thead>\n  <tbody>\n    <tr>\n      <th>0</th>\n      <td>0.0-0.05</td>\n      <td>-63.192661</td>\n      <td>-52.227273</td>\n      <td>-62.948980</td>\n      <td>-61.813953</td>\n      <td>-40.068966</td>\n      <td>-63.054348</td>\n      <td>-55.233333</td>\n    </tr>\n    <tr>\n      <th>1</th>\n      <td>0.15-9.42</td>\n      <td>-66.119266</td>\n      <td>-55.275229</td>\n      <td>-73.961905</td>\n      <td>-72.701031</td>\n      <td>-47.566038</td>\n      <td>-69.454545</td>\n      <td>-46.880000</td>\n    </tr>\n    <tr>\n      <th>2</th>\n      <td>0.31-11.09</td>\n      <td>-67.029126</td>\n      <td>-51.709091</td>\n      <td>-70.062500</td>\n      <td>-70.098901</td>\n      <td>-54.088235</td>\n      <td>-69.131579</td>\n      <td>-53.886598</td>\n    </tr>\n    <tr>\n      <th>3</th>\n      <td>0.47-8.2</td>\n      <td>-74.136364</td>\n      <td>-49.500000</td>\n      <td>-64.271739</td>\n      <td>-72.597701</td>\n      <td>-45.652893</td>\n      <td>-60.797468</td>\n      <td>-49.346939</td>\n    </tr>\n    <tr>\n      <th>4</th>\n      <td>0.78-10.94</td>\n      <td>-71.470000</td>\n      <td>-53.263636</td>\n      <td>-66.960000</td>\n      <td>-66.819277</td>\n      <td>-48.413793</td>\n      <td>-65.000000</td>\n      <td>-54.824742</td>\n    </tr>\n  </tbody>\n</table>\n</div>"
     },
     "metadata": {},
     "execution_count": 69
    }
   ],
   "source": [
    "online_pivot.head()"
   ]
  },
  {
   "cell_type": "code",
   "execution_count": 70,
   "metadata": {},
   "outputs": [],
   "source": [
    "online_pivot.to_csv('./data/online_pivot.csv', index=False)"
   ]
  },
  {
   "cell_type": "code",
   "execution_count": null,
   "metadata": {},
   "outputs": [],
   "source": []
  }
 ],
 "metadata": {
  "language_info": {
   "codemirror_mode": {
    "name": "ipython",
    "version": 3
   },
   "file_extension": ".py",
   "mimetype": "text/x-python",
   "name": "python",
   "nbconvert_exporter": "python",
   "pygments_lexer": "ipython3",
   "version": "3.7.6-final"
  },
  "orig_nbformat": 2,
  "kernelspec": {
   "name": "python37664bitmlearnconda0083abed3f784a9c9440b2aa200e0f06",
   "display_name": "Python 3.7.6 64-bit ('mlearn': conda)"
  }
 },
 "nbformat": 4,
 "nbformat_minor": 2
}