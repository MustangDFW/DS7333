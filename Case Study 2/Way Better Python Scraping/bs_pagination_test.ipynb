{
 "cells": [
  {
   "cell_type": "code",
   "execution_count": 111,
   "metadata": {},
   "outputs": [],
   "source": [
    "import requests\n",
    "from bs4 import BeautifulSoup, NavigableString, Tag\n",
    "import csv\n",
    "import numpy as np"
   ]
  },
  {
   "cell_type": "code",
   "execution_count": 162,
   "metadata": {},
   "outputs": [
    {
     "output_type": "stream",
     "name": "stdout",
     "text": "http://www.cballtimeresults.org/performances?division=Overall+Women&page=1&amp;section=10M&amp;sex=W&utf8=%E2%9C%93&year=1999\n"
    }
   ],
   "source": [
    "u1 = 'http://www.cballtimeresults.org/performances?division=Overall+Women&page='\n",
    "page_n = 1\n",
    "u2 = '&section=10M&sex=W&utf8=%E2%9C%93&year=1999'\n",
    "url = \"http://www.cballtimeresults.org/performances?division=Overall+Women&page={}&amp;section=10M&amp;sex=W&utf8=%E2%9C%93&year={}\".format(1, 1999)\n",
    "#note that &sect normally stands for section char ->§ , escape this by using &amp; to print an actual ampersand\n",
    "print(url)"
   ]
  },
  {
   "cell_type": "code",
   "execution_count": 9,
   "metadata": {},
   "outputs": [],
   "source": [
    "soup_test = BeautifulSoup(requests.get(url).text, 'lxml')\n",
    "table = soup_test.find(\"table\", attrs={\"class\": \"row-clickable responsive centered rwd-table\"})"
   ]
  },
  {
   "cell_type": "code",
   "execution_count": 10,
   "metadata": {},
   "outputs": [
    {
     "output_type": "stream",
     "name": "stdout",
     "text": "Credit Union Cherry Blossom Results - performances search\n"
    }
   ],
   "source": [
    "print(soup_test.title.text)"
   ]
  },
  {
   "cell_type": "code",
   "execution_count": 14,
   "metadata": {},
   "outputs": [
    {
     "output_type": "execute_result",
     "data": {
      "text/plain": "bs4.element.Tag"
     },
     "metadata": {},
     "execution_count": 14
    }
   ],
   "source": [
    "#table finder\n",
    "table = soup_test.find(\"table\", attrs={\"class\": \"row-clickable responsive centered rwd-table\"})"
   ]
  },
  {
   "cell_type": "code",
   "execution_count": 151,
   "metadata": {},
   "outputs": [
    {
     "output_type": "execute_result",
     "data": {
      "text/plain": "['Race',\n 'Name',\n 'Age',\n 'Time',\n 'Pace',\n 'PiS/TiS',\n 'Division',\n 'PiD/TiD',\n 'Hometown']"
     },
     "metadata": {},
     "execution_count": 151
    }
   ],
   "source": [
    "col_headers = [] #get column headers \n",
    "for th in table.find_all(\"th\"):\n",
    "    #print(th)\n",
    "    col_headers.append(th.text.replace('\\n', ' ').strip())\n",
    "\n",
    "col_headers    "
   ]
  },
  {
   "cell_type": "code",
   "execution_count": null,
   "metadata": {},
   "outputs": [],
   "source": [
    "for tr in table.find_all(\"tr\")[1]: #table.find_all('tr')[1] is row 1 in table, [0] is the title row, ect\n",
    "#td is the data in each row? nested under tr\n",
    "    print(tr)"
   ]
  },
  {
   "cell_type": "code",
   "execution_count": null,
   "metadata": {},
   "outputs": [],
   "source": [
    "soup_test = BeautifulSoup(requests.get(url).text, 'lxml')\n",
    "table = soup_test.find(\"table\", attrs={\"class\": \"row-clickable responsive centered rwd-table\"})"
   ]
  },
  {
   "cell_type": "code",
   "execution_count": 146,
   "metadata": {},
   "outputs": [],
   "source": [
    "\n",
    "c = 0\n",
    "r = 9\n",
    "page_rows = 20\n",
    "#read all the datapoints as a long array, break into groups of 9 for each row, 20 rows per page\n",
    "page_holder = np.zeros(shape = (20, 9), dtype=object) #initialize array\n",
    "for p in range(page_rows):\n",
    "    test_row = []\n",
    "    for i in range((0+(c*9)), (9+(c*9))):\n",
    "        test_row.append(table.find_all(\"td\")[i].text.replace('\\n', ''))\n",
    "    page_holder[c] = test_row\n",
    "    c = c + 1\n",
    "    #print(test_row)    \n",
    "\n",
    "#results in np object array page_holder that has 20 rows, 9 cols for a single page"
   ]
  },
  {
   "cell_type": "markdown",
   "metadata": {},
   "source": [
    "# Iterate over a single year's paginated results, output to csv"
   ]
  },
  {
   "cell_type": "code",
   "execution_count": 207,
   "metadata": {},
   "outputs": [],
   "source": [
    "year = 1999\n",
    "pages_per_year = 118"
   ]
  },
  {
   "cell_type": "code",
   "execution_count": 208,
   "metadata": {},
   "outputs": [],
   "source": [
    "col_headers = [] #get column headers, create dtype array to serve as vstack anchor\n",
    "for th in table.find_all(\"th\"):\n",
    "    #print(th)\n",
    "    col_headers.append(th.text.replace('\\n', ' ').strip())\n",
    "year_holder = np.array(col_headers, dtype = object)\n",
    "\n",
    "for n in range(1, pages_per_year):\n",
    "    u1 = 'http://www.cballtimeresults.org/performances?division=Overall+Women&page='\n",
    "    #page_n = 1\n",
    "    u2 = '&section=10M&sex=W&utf8=%E2%9C%93&year=1999'\n",
    "    url = \"http://www.cballtimeresults.org/performances?division=Overall+Women&page={}&amp;section=10M&amp;sex=W&utf8=%E2%9C%93&year={}\".format(n, year)\n",
    "    #print(url)\n",
    "    soup_test = BeautifulSoup(requests.get(url).text, 'lxml')\n",
    "    table = soup_test.find(\"table\", attrs={\"class\": \"row-clickable responsive centered rwd-table\"})\n",
    "    c = 0\n",
    "    r = 9\n",
    "    page_rows = 20\n",
    "    #read all the datapoints as a long array, break into groups of 9 for each row, 20 rows per page\n",
    "    page_holder = np.zeros(shape = (20, 9), dtype=object) #initialize array\n",
    "    for p in range(page_rows):\n",
    "        test_row = []\n",
    "        for i in range((0+(c*9)), (9+(c*9))):\n",
    "            test_row.append(table.find_all(\"td\")[i].text.replace('\\n', ''))\n",
    "        page_holder[c] = test_row\n",
    "        c = c + 1\n",
    "    #print(\"page {} added\".format(n))\n",
    "    year_holder = np.vstack((year_holder, page_holder)) #add each page onto the bottom of the column headers\n",
    "\n",
    "    "
   ]
  },
  {
   "cell_type": "markdown",
   "metadata": {},
   "source": [
    "ok works for 1999, much cleaner than manual XML space parsing\n",
    "\n",
    "manual inputs for this process are inputing the number of pages, and naming the csv output\n"
   ]
  },
  {
   "cell_type": "code",
   "execution_count": 240,
   "metadata": {},
   "outputs": [],
   "source": [
    "#function version\n",
    "def year_scraper(year, pages_per_year):\n",
    "    #get column headers from start point of scrape\n",
    "    url = \"http://www.cballtimeresults.org/performances?division=Overall+Women&page={}&amp;section=10M&amp;sex=W&utf8=%E2%9C%93&year={}\".format(1, year)\n",
    "    soup_test = BeautifulSoup(requests.get(url).text, 'lxml')\n",
    "    table = soup_test.find(\"table\", attrs={\"class\": \"row-clickable responsive centered rwd-table\"})\n",
    "\n",
    "    col_headers = [] #get column headers, create dtype array to serve as vstack anchor\n",
    "    for th in table.find_all(\"th\"):\n",
    "    #print(th)\n",
    "        col_headers.append(th.text.replace('\\n', ' ').strip())\n",
    "    year_holder = np.array(col_headers, dtype = object)\n",
    "\n",
    "    for n in range(1, pages_per_year):\n",
    "        url = \"http://www.cballtimeresults.org/performances?division=Overall+Women&page={}&amp;section=10M&amp;sex=W&utf8=%E2%9C%93&year={}\".format(n, year)\n",
    "    #print(url)\n",
    "        soup_test = BeautifulSoup(requests.get(url).text, 'lxml')\n",
    "        table = soup_test.find(\"table\", attrs={\"class\": \"row-clickable responsive centered rwd-table\"})\n",
    "        c = 0\n",
    "        r = 9\n",
    "        page_rows = 20\n",
    "    #read all the datapoints as a long array, break into groups of 9 for each row, 20 rows per page\n",
    "        page_holder = np.zeros(shape = (20, 9), dtype=object) #initialize array\n",
    "\n",
    "        for p in range(page_rows):\n",
    "            test_row = []\n",
    "            for i in range((0+(c*9)), (9+(c*9))):\n",
    "                test_row.append(table.find_all(\"td\")[i].text.replace('\\n', ''))\n",
    "            page_holder[c] = test_row\n",
    "            c = c + 1\n",
    "    #print(\"page {} added\".format(n))\n",
    "        year_holder = np.vstack((year_holder, page_holder)) #add each page onto the bottom of the column headers\n"
   ]
  },
  {
   "cell_type": "code",
   "execution_count": 237,
   "metadata": {},
   "outputs": [
    {
     "output_type": "execute_result",
     "data": {
      "text/plain": "True"
     },
     "metadata": {},
     "execution_count": 237
    }
   ],
   "source": [
    "#out of index exception testing\n",
    "url = \"http://www.cballtimeresults.org/performances?division=Overall+Women&page={}&amp;section=10M&amp;sex=W&utf8=%E2%9C%93&year={}\".format(119, 1999)\n",
    "soup_test = BeautifulSoup(requests.get(url).text, 'lxml')\n",
    "table = soup_test.find(\"table\", attrs={\"class\": \"row-clickable responsive centered rwd-table\"})\n",
    "\n",
    "(table.find_all(\"td\")) == []"
   ]
  },
  {
   "cell_type": "code",
   "execution_count": 239,
   "metadata": {},
   "outputs": [
    {
     "output_type": "error",
     "ename": "IndexError",
     "evalue": "list index out of range",
     "traceback": [
      "\u001b[1;31m---------------------------------------------------------------------------\u001b[0m",
      "\u001b[1;31mIndexError\u001b[0m                                Traceback (most recent call last)",
      "\u001b[1;32m<ipython-input-239-d386d009c276>\u001b[0m in \u001b[0;36m<module>\u001b[1;34m\u001b[0m\n\u001b[1;32m----> 1\u001b[1;33m \u001b[0myear_scraper\u001b[0m\u001b[1;33m(\u001b[0m\u001b[1;36m2000\u001b[0m\u001b[1;33m,\u001b[0m \u001b[1;36m118\u001b[0m\u001b[1;33m)\u001b[0m \u001b[1;31m#could write an exception if the window overshoots pages?\u001b[0m\u001b[1;33m\u001b[0m\u001b[1;33m\u001b[0m\u001b[0m\n\u001b[0m\u001b[0;32m      2\u001b[0m \u001b[0mnp\u001b[0m\u001b[1;33m.\u001b[0m\u001b[0msavetxt\u001b[0m\u001b[1;33m(\u001b[0m\u001b[1;34m'soup.2000.csv'\u001b[0m\u001b[1;33m,\u001b[0m \u001b[0myear_holder\u001b[0m\u001b[1;33m,\u001b[0m \u001b[0mdelimiter\u001b[0m \u001b[1;33m=\u001b[0m \u001b[1;34m','\u001b[0m\u001b[1;33m,\u001b[0m \u001b[0mfmt\u001b[0m \u001b[1;33m=\u001b[0m \u001b[1;34m\"%s\"\u001b[0m\u001b[1;33m)\u001b[0m \u001b[1;31m#%s as fmt option should save everything as a string\u001b[0m\u001b[1;33m\u001b[0m\u001b[1;33m\u001b[0m\u001b[0m\n",
      "\u001b[1;32m<ipython-input-238-9f03fe13d6b3>\u001b[0m in \u001b[0;36myear_scraper\u001b[1;34m(year, pages_per_year)\u001b[0m\n\u001b[0;32m     27\u001b[0m             \u001b[0mtest_row\u001b[0m \u001b[1;33m=\u001b[0m \u001b[1;33m[\u001b[0m\u001b[1;33m]\u001b[0m\u001b[1;33m\u001b[0m\u001b[1;33m\u001b[0m\u001b[0m\n\u001b[0;32m     28\u001b[0m             \u001b[1;32mfor\u001b[0m \u001b[0mi\u001b[0m \u001b[1;32min\u001b[0m \u001b[0mrange\u001b[0m\u001b[1;33m(\u001b[0m\u001b[1;33m(\u001b[0m\u001b[1;36m0\u001b[0m\u001b[1;33m+\u001b[0m\u001b[1;33m(\u001b[0m\u001b[0mc\u001b[0m\u001b[1;33m*\u001b[0m\u001b[1;36m9\u001b[0m\u001b[1;33m)\u001b[0m\u001b[1;33m)\u001b[0m\u001b[1;33m,\u001b[0m \u001b[1;33m(\u001b[0m\u001b[1;36m9\u001b[0m\u001b[1;33m+\u001b[0m\u001b[1;33m(\u001b[0m\u001b[0mc\u001b[0m\u001b[1;33m*\u001b[0m\u001b[1;36m9\u001b[0m\u001b[1;33m)\u001b[0m\u001b[1;33m)\u001b[0m\u001b[1;33m)\u001b[0m\u001b[1;33m:\u001b[0m\u001b[1;33m\u001b[0m\u001b[1;33m\u001b[0m\u001b[0m\n\u001b[1;32m---> 29\u001b[1;33m                 \u001b[0mtest_row\u001b[0m\u001b[1;33m.\u001b[0m\u001b[0mappend\u001b[0m\u001b[1;33m(\u001b[0m\u001b[0mtable\u001b[0m\u001b[1;33m.\u001b[0m\u001b[0mfind_all\u001b[0m\u001b[1;33m(\u001b[0m\u001b[1;34m\"td\"\u001b[0m\u001b[1;33m)\u001b[0m\u001b[1;33m[\u001b[0m\u001b[0mi\u001b[0m\u001b[1;33m]\u001b[0m\u001b[1;33m.\u001b[0m\u001b[0mtext\u001b[0m\u001b[1;33m.\u001b[0m\u001b[0mreplace\u001b[0m\u001b[1;33m(\u001b[0m\u001b[1;34m'\\n'\u001b[0m\u001b[1;33m,\u001b[0m \u001b[1;34m''\u001b[0m\u001b[1;33m)\u001b[0m\u001b[1;33m)\u001b[0m\u001b[1;33m\u001b[0m\u001b[1;33m\u001b[0m\u001b[0m\n\u001b[0m\u001b[0;32m     30\u001b[0m             \u001b[0mpage_holder\u001b[0m\u001b[1;33m[\u001b[0m\u001b[0mc\u001b[0m\u001b[1;33m]\u001b[0m \u001b[1;33m=\u001b[0m \u001b[0mtest_row\u001b[0m\u001b[1;33m\u001b[0m\u001b[1;33m\u001b[0m\u001b[0m\n\u001b[0;32m     31\u001b[0m             \u001b[0mc\u001b[0m \u001b[1;33m=\u001b[0m \u001b[0mc\u001b[0m \u001b[1;33m+\u001b[0m \u001b[1;36m1\u001b[0m\u001b[1;33m\u001b[0m\u001b[1;33m\u001b[0m\u001b[0m\n",
      "\u001b[1;31mIndexError\u001b[0m: list index out of range"
     ]
    }
   ],
   "source": [
    "year_scraper(1999, 118) #could write an exception if the window\n",
    "np.savetxt('soup.1999.csv', year_holder, delimiter = ',', fmt = \"%s\") #%s as fmt option should save everything as a string"
   ]
  },
  {
   "cell_type": "code",
   "execution_count": null,
   "metadata": {},
   "outputs": [],
   "source": [
    "year_scraper(2001, 118)\n",
    "np.savetxt('soup.2001.csv', year_holder, delimiter = ',', fmt = \"%s\") #%s as fmt option should save everything as a string"
   ]
  },
  {
   "cell_type": "code",
   "execution_count": null,
   "metadata": {},
   "outputs": [],
   "source": [
    "year_scraper(2002, 118)\n",
    "np.savetxt('soup.2002.csv', year_holder, delimiter = ',', fmt = \"%s\") #%s as fmt option should save everything as a string"
   ]
  },
  {
   "cell_type": "code",
   "execution_count": null,
   "metadata": {},
   "outputs": [],
   "source": [
    "year_scraper(2003, 118)\n",
    "np.savetxt('soup.2003.csv', year_holder, delimiter = ',', fmt = \"%s\") #%s as fmt option should save everything as a string"
   ]
  },
  {
   "cell_type": "code",
   "execution_count": null,
   "metadata": {},
   "outputs": [],
   "source": [
    "year_scraper(2004, 118)\n",
    "np.savetxt('soup.2004.csv', year_holder, delimiter = ',', fmt = \"%s\") #%s as fmt option should save everything as a string"
   ]
  },
  {
   "cell_type": "code",
   "execution_count": null,
   "metadata": {},
   "outputs": [],
   "source": [
    "year_scraper(2005, 118)\n",
    "np.savetxt('soup.2005.csv', year_holder, delimiter = ',', fmt = \"%s\") #%s as fmt option should save everything as a string"
   ]
  },
  {
   "cell_type": "code",
   "execution_count": null,
   "metadata": {},
   "outputs": [],
   "source": [
    "year_scraper(2006, 118)\n",
    "np.savetxt('soup.2006.csv', year_holder, delimiter = ',', fmt = \"%s\") #%s as fmt option should save everything as a string"
   ]
  },
  {
   "cell_type": "code",
   "execution_count": null,
   "metadata": {},
   "outputs": [],
   "source": [
    "year_scraper(2007, 118)\n",
    "np.savetxt('soup.2007.csv', year_holder, delimiter = ',', fmt = \"%s\") #%s as fmt option should save everything as a string"
   ]
  },
  {
   "cell_type": "code",
   "execution_count": null,
   "metadata": {},
   "outputs": [],
   "source": [
    "year_scraper(2008, 118)\n",
    "np.savetxt('soup.2008.csv', year_holder, delimiter = ',', fmt = \"%s\") #%s as fmt option should save everything as a string"
   ]
  },
  {
   "cell_type": "code",
   "execution_count": null,
   "metadata": {},
   "outputs": [],
   "source": [
    "year_scraper(2009, 118)\n",
    "np.savetxt('soup.2009.csv', year_holder, delimiter = ',', fmt = \"%s\") #%s as fmt option should save everything as a string"
   ]
  },
  {
   "cell_type": "code",
   "execution_count": null,
   "metadata": {},
   "outputs": [],
   "source": [
    "year_scraper(2010, 118)\n",
    "np.savetxt('soup.2010.csv', year_holder, delimiter = ',', fmt = \"%s\") #%s as fmt option should save everything as a string"
   ]
  }
 ],
 "metadata": {
  "language_info": {
   "codemirror_mode": {
    "name": "ipython",
    "version": 3
   },
   "file_extension": ".py",
   "mimetype": "text/x-python",
   "name": "python",
   "nbconvert_exporter": "python",
   "pygments_lexer": "ipython3",
   "version": "3.7.6-final"
  },
  "orig_nbformat": 2,
  "kernelspec": {
   "name": "python37664bit89ec748f44b242d8ad7511265d5c03f8",
   "display_name": "Python 3.7.6 64-bit"
  }
 },
 "nbformat": 4,
 "nbformat_minor": 2
}